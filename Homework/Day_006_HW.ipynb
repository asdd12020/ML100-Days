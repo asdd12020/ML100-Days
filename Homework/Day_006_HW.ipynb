{
 "cells": [
  {
   "cell_type": "markdown",
   "metadata": {},
   "source": [
    "# 檢視與處理 Outliers\n",
    "### 為何會有 outliers, 常見的 outlier 原因\n",
    "* 未知值，隨意填補 (約定俗成的代入)，如年齡常見 0,999\n",
    "* 可能的錯誤紀錄/手誤/系統性錯誤，如某本書在某筆訂單的銷售量 = 1000 本"
   ]
  },
  {
   "cell_type": "code",
   "execution_count": 1,
   "metadata": {},
   "outputs": [],
   "source": [
    "# Import 需要的套件\n",
    "import os\n",
    "import numpy as np\n",
    "import pandas as pd\n",
    "import matplotlib.pyplot as plt\n",
    "\n",
    "%matplotlib inline\n",
    "\n",
    "# 設定 data_path\n",
    "dir_data = './data'"
   ]
  },
  {
   "cell_type": "code",
   "execution_count": 2,
   "metadata": {},
   "outputs": [
    {
     "name": "stdout",
     "output_type": "stream",
     "text": [
      "Path of read in data: ./data\\application_train.csv\n"
     ]
    },
    {
     "data": {
      "text/html": [
       "<div>\n",
       "<style scoped>\n",
       "    .dataframe tbody tr th:only-of-type {\n",
       "        vertical-align: middle;\n",
       "    }\n",
       "\n",
       "    .dataframe tbody tr th {\n",
       "        vertical-align: top;\n",
       "    }\n",
       "\n",
       "    .dataframe thead th {\n",
       "        text-align: right;\n",
       "    }\n",
       "</style>\n",
       "<table border=\"1\" class=\"dataframe\">\n",
       "  <thead>\n",
       "    <tr style=\"text-align: right;\">\n",
       "      <th></th>\n",
       "      <th>SK_ID_CURR</th>\n",
       "      <th>TARGET</th>\n",
       "      <th>NAME_CONTRACT_TYPE</th>\n",
       "      <th>CODE_GENDER</th>\n",
       "      <th>FLAG_OWN_CAR</th>\n",
       "      <th>FLAG_OWN_REALTY</th>\n",
       "      <th>CNT_CHILDREN</th>\n",
       "      <th>AMT_INCOME_TOTAL</th>\n",
       "      <th>AMT_CREDIT</th>\n",
       "      <th>AMT_ANNUITY</th>\n",
       "      <th>...</th>\n",
       "      <th>FLAG_DOCUMENT_18</th>\n",
       "      <th>FLAG_DOCUMENT_19</th>\n",
       "      <th>FLAG_DOCUMENT_20</th>\n",
       "      <th>FLAG_DOCUMENT_21</th>\n",
       "      <th>AMT_REQ_CREDIT_BUREAU_HOUR</th>\n",
       "      <th>AMT_REQ_CREDIT_BUREAU_DAY</th>\n",
       "      <th>AMT_REQ_CREDIT_BUREAU_WEEK</th>\n",
       "      <th>AMT_REQ_CREDIT_BUREAU_MON</th>\n",
       "      <th>AMT_REQ_CREDIT_BUREAU_QRT</th>\n",
       "      <th>AMT_REQ_CREDIT_BUREAU_YEAR</th>\n",
       "    </tr>\n",
       "  </thead>\n",
       "  <tbody>\n",
       "    <tr>\n",
       "      <th>0</th>\n",
       "      <td>100002</td>\n",
       "      <td>1</td>\n",
       "      <td>Cash loans</td>\n",
       "      <td>M</td>\n",
       "      <td>N</td>\n",
       "      <td>Y</td>\n",
       "      <td>0</td>\n",
       "      <td>202500.0</td>\n",
       "      <td>406597.5</td>\n",
       "      <td>24700.5</td>\n",
       "      <td>...</td>\n",
       "      <td>0</td>\n",
       "      <td>0</td>\n",
       "      <td>0</td>\n",
       "      <td>0</td>\n",
       "      <td>0.0</td>\n",
       "      <td>0.0</td>\n",
       "      <td>0.0</td>\n",
       "      <td>0.0</td>\n",
       "      <td>0.0</td>\n",
       "      <td>1.0</td>\n",
       "    </tr>\n",
       "    <tr>\n",
       "      <th>1</th>\n",
       "      <td>100003</td>\n",
       "      <td>0</td>\n",
       "      <td>Cash loans</td>\n",
       "      <td>F</td>\n",
       "      <td>N</td>\n",
       "      <td>N</td>\n",
       "      <td>0</td>\n",
       "      <td>270000.0</td>\n",
       "      <td>1293502.5</td>\n",
       "      <td>35698.5</td>\n",
       "      <td>...</td>\n",
       "      <td>0</td>\n",
       "      <td>0</td>\n",
       "      <td>0</td>\n",
       "      <td>0</td>\n",
       "      <td>0.0</td>\n",
       "      <td>0.0</td>\n",
       "      <td>0.0</td>\n",
       "      <td>0.0</td>\n",
       "      <td>0.0</td>\n",
       "      <td>0.0</td>\n",
       "    </tr>\n",
       "    <tr>\n",
       "      <th>2</th>\n",
       "      <td>100004</td>\n",
       "      <td>0</td>\n",
       "      <td>Revolving loans</td>\n",
       "      <td>M</td>\n",
       "      <td>Y</td>\n",
       "      <td>Y</td>\n",
       "      <td>0</td>\n",
       "      <td>67500.0</td>\n",
       "      <td>135000.0</td>\n",
       "      <td>6750.0</td>\n",
       "      <td>...</td>\n",
       "      <td>0</td>\n",
       "      <td>0</td>\n",
       "      <td>0</td>\n",
       "      <td>0</td>\n",
       "      <td>0.0</td>\n",
       "      <td>0.0</td>\n",
       "      <td>0.0</td>\n",
       "      <td>0.0</td>\n",
       "      <td>0.0</td>\n",
       "      <td>0.0</td>\n",
       "    </tr>\n",
       "    <tr>\n",
       "      <th>3</th>\n",
       "      <td>100006</td>\n",
       "      <td>0</td>\n",
       "      <td>Cash loans</td>\n",
       "      <td>F</td>\n",
       "      <td>N</td>\n",
       "      <td>Y</td>\n",
       "      <td>0</td>\n",
       "      <td>135000.0</td>\n",
       "      <td>312682.5</td>\n",
       "      <td>29686.5</td>\n",
       "      <td>...</td>\n",
       "      <td>0</td>\n",
       "      <td>0</td>\n",
       "      <td>0</td>\n",
       "      <td>0</td>\n",
       "      <td>NaN</td>\n",
       "      <td>NaN</td>\n",
       "      <td>NaN</td>\n",
       "      <td>NaN</td>\n",
       "      <td>NaN</td>\n",
       "      <td>NaN</td>\n",
       "    </tr>\n",
       "    <tr>\n",
       "      <th>4</th>\n",
       "      <td>100007</td>\n",
       "      <td>0</td>\n",
       "      <td>Cash loans</td>\n",
       "      <td>M</td>\n",
       "      <td>N</td>\n",
       "      <td>Y</td>\n",
       "      <td>0</td>\n",
       "      <td>121500.0</td>\n",
       "      <td>513000.0</td>\n",
       "      <td>21865.5</td>\n",
       "      <td>...</td>\n",
       "      <td>0</td>\n",
       "      <td>0</td>\n",
       "      <td>0</td>\n",
       "      <td>0</td>\n",
       "      <td>0.0</td>\n",
       "      <td>0.0</td>\n",
       "      <td>0.0</td>\n",
       "      <td>0.0</td>\n",
       "      <td>0.0</td>\n",
       "      <td>0.0</td>\n",
       "    </tr>\n",
       "  </tbody>\n",
       "</table>\n",
       "<p>5 rows × 122 columns</p>\n",
       "</div>"
      ],
      "text/plain": [
       "   SK_ID_CURR  TARGET NAME_CONTRACT_TYPE CODE_GENDER FLAG_OWN_CAR  \\\n",
       "0      100002       1         Cash loans           M            N   \n",
       "1      100003       0         Cash loans           F            N   \n",
       "2      100004       0    Revolving loans           M            Y   \n",
       "3      100006       0         Cash loans           F            N   \n",
       "4      100007       0         Cash loans           M            N   \n",
       "\n",
       "  FLAG_OWN_REALTY  CNT_CHILDREN  AMT_INCOME_TOTAL  AMT_CREDIT  AMT_ANNUITY  \\\n",
       "0               Y             0          202500.0    406597.5      24700.5   \n",
       "1               N             0          270000.0   1293502.5      35698.5   \n",
       "2               Y             0           67500.0    135000.0       6750.0   \n",
       "3               Y             0          135000.0    312682.5      29686.5   \n",
       "4               Y             0          121500.0    513000.0      21865.5   \n",
       "\n",
       "              ...              FLAG_DOCUMENT_18 FLAG_DOCUMENT_19  \\\n",
       "0             ...                             0                0   \n",
       "1             ...                             0                0   \n",
       "2             ...                             0                0   \n",
       "3             ...                             0                0   \n",
       "4             ...                             0                0   \n",
       "\n",
       "  FLAG_DOCUMENT_20 FLAG_DOCUMENT_21 AMT_REQ_CREDIT_BUREAU_HOUR  \\\n",
       "0                0                0                        0.0   \n",
       "1                0                0                        0.0   \n",
       "2                0                0                        0.0   \n",
       "3                0                0                        NaN   \n",
       "4                0                0                        0.0   \n",
       "\n",
       "  AMT_REQ_CREDIT_BUREAU_DAY  AMT_REQ_CREDIT_BUREAU_WEEK  \\\n",
       "0                       0.0                         0.0   \n",
       "1                       0.0                         0.0   \n",
       "2                       0.0                         0.0   \n",
       "3                       NaN                         NaN   \n",
       "4                       0.0                         0.0   \n",
       "\n",
       "   AMT_REQ_CREDIT_BUREAU_MON  AMT_REQ_CREDIT_BUREAU_QRT  \\\n",
       "0                        0.0                        0.0   \n",
       "1                        0.0                        0.0   \n",
       "2                        0.0                        0.0   \n",
       "3                        NaN                        NaN   \n",
       "4                        0.0                        0.0   \n",
       "\n",
       "   AMT_REQ_CREDIT_BUREAU_YEAR  \n",
       "0                         1.0  \n",
       "1                         0.0  \n",
       "2                         0.0  \n",
       "3                         NaN  \n",
       "4                         0.0  \n",
       "\n",
       "[5 rows x 122 columns]"
      ]
     },
     "execution_count": 2,
     "metadata": {},
     "output_type": "execute_result"
    }
   ],
   "source": [
    "f_app = os.path.join(dir_data, 'application_train.csv')\n",
    "print('Path of read in data: %s' % (f_app))\n",
    "app_train = pd.read_csv(f_app)\n",
    "app_train.head()"
   ]
  },
  {
   "cell_type": "markdown",
   "metadata": {},
   "source": [
    "## 請參考 HomeCredit_columns_description.csv 的欄位說明，觀察並列出三個你覺得可能有 outlier 的欄位並解釋可能的原因"
   ]
  },
  {
   "cell_type": "code",
   "execution_count": 3,
   "metadata": {
    "scrolled": true
   },
   "outputs": [
    {
     "name": "stdout",
     "output_type": "stream",
     "text": [
      "Numbers of remain columns 73\n",
      "0    100002\n",
      "1    100003\n",
      "2    100004\n",
      "3    100006\n",
      "4    100007\n",
      "Name: SK_ID_CURR, dtype: int64\n"
     ]
    },
    {
     "data": {
      "image/png": "[encoded data removed]",
      "text/plain": [
       "<Figure size 432x288 with 1 Axes>"
      ]
     },
     "metadata": {
      "needs_background": "light"
     },
     "output_type": "display_data"
    },
    {
     "name": "stdout",
     "output_type": "stream",
     "text": [
      "0    0\n",
      "1    0\n",
      "2    0\n",
      "3    0\n",
      "4    0\n",
      "Name: CNT_CHILDREN, dtype: int64\n"
     ]
    },
    {
     "data": {
      "image/png": "[encoded data removed]",
      "text/plain": [
       "<Figure size 432x288 with 1 Axes>"
      ]
     },
     "metadata": {
      "needs_background": "light"
     },
     "output_type": "display_data"
    },
    {
     "name": "stdout",
     "output_type": "stream",
     "text": [
      "0    202500.0\n",
      "1    270000.0\n",
      "2     67500.0\n",
      "3    135000.0\n",
      "4    121500.0\n",
      "Name: AMT_INCOME_TOTAL, dtype: float64\n"
     ]
    },
    {
     "data": {
      "image/png": "[encoded data removed]",
      "text/plain": [
       "<Figure size 432x288 with 1 Axes>"
      ]
     },
     "metadata": {
      "needs_background": "light"
     },
     "output_type": "display_data"
    },
    {
     "name": "stdout",
     "output_type": "stream",
     "text": [
      "0     406597.5\n",
      "1    1293502.5\n",
      "2     135000.0\n",
      "3     312682.5\n",
      "4     513000.0\n",
      "Name: AMT_CREDIT, dtype: float64\n"
     ]
    },
    {
     "data": {
      "image/png": "[encoded data removed]",
      "text/plain": [
       "<Figure size 432x288 with 1 Axes>"
      ]
     },
     "metadata": {
      "needs_background": "light"
     },
     "output_type": "display_data"
    },
    {
     "name": "stdout",
     "output_type": "stream",
     "text": [
      "0    24700.5\n",
      "1    35698.5\n",
      "2     6750.0\n",
      "3    29686.5\n",
      "4    21865.5\n",
      "Name: AMT_ANNUITY, dtype: float64\n"
     ]
    },
    {
     "name": "stderr",
     "output_type": "stream",
     "text": [
      "C:\\Users\\Mifea\\Anaconda3\\lib\\site-packages\\numpy\\lib\\function_base.py:3652: RuntimeWarning: Invalid value encountered in percentile\n",
      "  interpolation=interpolation)\n",
      "C:\\Users\\Mifea\\Anaconda3\\lib\\site-packages\\matplotlib\\cbook\\__init__.py:1874: RuntimeWarning: invalid value encountered in less_equal\n",
      "  wiskhi = np.compress(x <= hival, x)\n",
      "C:\\Users\\Mifea\\Anaconda3\\lib\\site-packages\\matplotlib\\cbook\\__init__.py:1881: RuntimeWarning: invalid value encountered in greater_equal\n",
      "  wisklo = np.compress(x >= loval, x)\n",
      "C:\\Users\\Mifea\\Anaconda3\\lib\\site-packages\\matplotlib\\cbook\\__init__.py:1889: RuntimeWarning: invalid value encountered in less\n",
      "  np.compress(x < stats['whislo'], x),\n",
      "C:\\Users\\Mifea\\Anaconda3\\lib\\site-packages\\matplotlib\\cbook\\__init__.py:1890: RuntimeWarning: invalid value encountered in greater\n",
      "  np.compress(x > stats['whishi'], x)\n"
     ]
    },
    {
     "data": {
      "image/png": "[encoded data removed]",
      "text/plain": [
       "<Figure size 432x288 with 1 Axes>"
      ]
     },
     "metadata": {
      "needs_background": "light"
     },
     "output_type": "display_data"
    },
    {
     "name": "stdout",
     "output_type": "stream",
     "text": [
      "0     351000.0\n",
      "1    1129500.0\n",
      "2     135000.0\n",
      "3     297000.0\n",
      "4     513000.0\n",
      "Name: AMT_GOODS_PRICE, dtype: float64\n"
     ]
    },
    {
     "data": {
      "image/png": "[encoded data removed]",
      "text/plain": [
       "<Figure size 432x288 with 1 Axes>"
      ]
     },
     "metadata": {
      "needs_background": "light"
     },
     "output_type": "display_data"
    },
    {
     "name": "stdout",
     "output_type": "stream",
     "text": [
      "0    0.018801\n",
      "1    0.003541\n",
      "2    0.010032\n",
      "3    0.008019\n",
      "4    0.028663\n",
      "Name: REGION_POPULATION_RELATIVE, dtype: float64\n"
     ]
    },
    {
     "data": {
      "image/png": "[encoded data removed]",
      "text/plain": [
       "<Figure size 432x288 with 1 Axes>"
      ]
     },
     "metadata": {
      "needs_background": "light"
     },
     "output_type": "display_data"
    },
    {
     "name": "stdout",
     "output_type": "stream",
     "text": [
      "0    -9461\n",
      "1   -16765\n",
      "2   -19046\n",
      "3   -19005\n",
      "4   -19932\n",
      "Name: DAYS_BIRTH, dtype: int64\n"
     ]
    },
    {
     "data": {
      "image/png": "[encoded data removed]",
      "text/plain": [
       "<Figure size 432x288 with 1 Axes>"
      ]
     },
     "metadata": {
      "needs_background": "light"
     },
     "output_type": "display_data"
    },
    {
     "name": "stdout",
     "output_type": "stream",
     "text": [
      "0    -637\n",
      "1   -1188\n",
      "2    -225\n",
      "3   -3039\n",
      "4   -3038\n",
      "Name: DAYS_EMPLOYED, dtype: int64\n"
     ]
    },
    {
     "data": {
      "image/png": "[encoded data removed]",
      "text/plain": [
       "<Figure size 432x288 with 1 Axes>"
      ]
     },
     "metadata": {
      "needs_background": "light"
     },
     "output_type": "display_data"
    },
    {
     "name": "stdout",
     "output_type": "stream",
     "text": [
      "0   -3648.0\n",
      "1   -1186.0\n",
      "2   -4260.0\n",
      "3   -9833.0\n",
      "4   -4311.0\n",
      "Name: DAYS_REGISTRATION, dtype: float64\n"
     ]
    },
    {
     "data": {
      "image/png": "[encoded data removed]",
      "text/plain": [
       "<Figure size 432x288 with 1 Axes>"
      ]
     },
     "metadata": {
      "needs_background": "light"
     },
     "output_type": "display_data"
    },
    {
     "name": "stdout",
     "output_type": "stream",
     "text": [
      "0   -2120\n",
      "1    -291\n",
      "2   -2531\n",
      "3   -2437\n",
      "4   -3458\n",
      "Name: DAYS_ID_PUBLISH, dtype: int64\n"
     ]
    },
    {
     "data": {
      "image/png": "[encoded data removed]",
      "text/plain": [
       "<Figure size 432x288 with 1 Axes>"
      ]
     },
     "metadata": {
      "needs_background": "light"
     },
     "output_type": "display_data"
    },
    {
     "name": "stdout",
     "output_type": "stream",
     "text": [
      "0     NaN\n",
      "1     NaN\n",
      "2    26.0\n",
      "3     NaN\n",
      "4     NaN\n",
      "Name: OWN_CAR_AGE, dtype: float64\n"
     ]
    },
    {
     "data": {
      "image/png": "[encoded data removed]",
      "text/plain": [
       "<Figure size 432x288 with 1 Axes>"
      ]
     },
     "metadata": {
      "needs_background": "light"
     },
     "output_type": "display_data"
    },
    {
     "name": "stdout",
     "output_type": "stream",
     "text": [
      "0    1.0\n",
      "1    2.0\n",
      "2    1.0\n",
      "3    2.0\n",
      "4    1.0\n",
      "Name: CNT_FAM_MEMBERS, dtype: float64\n"
     ]
    },
    {
     "data": {
      "image/png": "[encoded data removed]",
      "text/plain": [
       "<Figure size 432x288 with 1 Axes>"
      ]
     },
     "metadata": {
      "needs_background": "light"
     },
     "output_type": "display_data"
    },
    {
     "name": "stdout",
     "output_type": "stream",
     "text": [
      "0    2\n",
      "1    1\n",
      "2    2\n",
      "3    2\n",
      "4    2\n",
      "Name: REGION_RATING_CLIENT, dtype: int64\n"
     ]
    },
    {
     "data": {
      "image/png": "[encoded data removed]",
      "text/plain": [
       "<Figure size 432x288 with 1 Axes>"
      ]
     },
     "metadata": {
      "needs_background": "light"
     },
     "output_type": "display_data"
    },
    {
     "name": "stdout",
     "output_type": "stream",
     "text": [
      "0    2\n",
      "1    1\n",
      "2    2\n",
      "3    2\n",
      "4    2\n",
      "Name: REGION_RATING_CLIENT_W_CITY, dtype: int64\n"
     ]
    },
    {
     "data": {
      "image/png": "[encoded data removed]",
      "text/plain": [
       "<Figure size 432x288 with 1 Axes>"
      ]
     },
     "metadata": {
      "needs_background": "light"
     },
     "output_type": "display_data"
    },
    {
     "name": "stdout",
     "output_type": "stream",
     "text": [
      "0    10\n",
      "1    11\n",
      "2     9\n",
      "3    17\n",
      "4    11\n",
      "Name: HOUR_APPR_PROCESS_START, dtype: int64\n"
     ]
    },
    {
     "data": {
      "image/png": "[encoded data removed]",
      "text/plain": [
       "<Figure size 432x288 with 1 Axes>"
      ]
     },
     "metadata": {
      "needs_background": "light"
     },
     "output_type": "display_data"
    },
    {
     "name": "stdout",
     "output_type": "stream",
     "text": [
      "0    0.083037\n",
      "1    0.311267\n",
      "2         NaN\n",
      "3         NaN\n",
      "4         NaN\n",
      "Name: EXT_SOURCE_1, dtype: float64\n"
     ]
    },
    {
     "data": {
      "image/png": "[encoded data removed]",
      "text/plain": [
       "<Figure size 432x288 with 1 Axes>"
      ]
     },
     "metadata": {
      "needs_background": "light"
     },
     "output_type": "display_data"
    },
    {
     "name": "stdout",
     "output_type": "stream",
     "text": [
      "0    0.262949\n",
      "1    0.622246\n",
      "2    0.555912\n",
      "3    0.650442\n",
      "4    0.322738\n",
      "Name: EXT_SOURCE_2, dtype: float64\n"
     ]
    },
    {
     "data": {
      "image/png": "[encoded data removed]",
      "text/plain": [
       "<Figure size 432x288 with 1 Axes>"
      ]
     },
     "metadata": {
      "needs_background": "light"
     },
     "output_type": "display_data"
    },
    {
     "name": "stdout",
     "output_type": "stream",
     "text": [
      "0    0.139376\n",
      "1         NaN\n",
      "2    0.729567\n",
      "3         NaN\n",
      "4         NaN\n",
      "Name: EXT_SOURCE_3, dtype: float64\n"
     ]
    },
    {
     "data": {
      "image/png": "[encoded data removed]",
      "text/plain": [
       "<Figure size 432x288 with 1 Axes>"
      ]
     },
     "metadata": {
      "needs_background": "light"
     },
     "output_type": "display_data"
    },
    {
     "name": "stdout",
     "output_type": "stream",
     "text": [
      "0    0.0247\n",
      "1    0.0959\n",
      "2       NaN\n",
      "3       NaN\n",
      "4       NaN\n",
      "Name: APARTMENTS_AVG, dtype: float64\n"
     ]
    },
    {
     "data": {
      "image/png": "[encoded data removed]",
      "text/plain": [
       "<Figure size 432x288 with 1 Axes>"
      ]
     },
     "metadata": {
      "needs_background": "light"
     },
     "output_type": "display_data"
    },
    {
     "name": "stdout",
     "output_type": "stream",
     "text": [
      "0    0.0369\n",
      "1    0.0529\n",
      "2       NaN\n",
      "3       NaN\n",
      "4       NaN\n",
      "Name: BASEMENTAREA_AVG, dtype: float64\n"
     ]
    },
    {
     "data": {
      "image/png": "[encoded data removed]",
      "text/plain": [
       "<Figure size 432x288 with 1 Axes>"
      ]
     },
     "metadata": {
      "needs_background": "light"
     },
     "output_type": "display_data"
    },
    {
     "name": "stdout",
     "output_type": "stream",
     "text": [
      "0    0.9722\n",
      "1    0.9851\n",
      "2       NaN\n",
      "3       NaN\n",
      "4       NaN\n",
      "Name: YEARS_BEGINEXPLUATATION_AVG, dtype: float64\n"
     ]
    },
    {
     "data": {
      "image/png": "[encoded data removed]",
      "text/plain": [
       "<Figure size 432x288 with 1 Axes>"
      ]
     },
     "metadata": {
      "needs_background": "light"
     },
     "output_type": "display_data"
    },
    {
     "name": "stdout",
     "output_type": "stream",
     "text": [
      "0    0.6192\n",
      "1    0.7960\n",
      "2       NaN\n",
      "3       NaN\n",
      "4       NaN\n",
      "Name: YEARS_BUILD_AVG, dtype: float64\n"
     ]
    },
    {
     "data": {
      "image/png": "[encoded data removed]",
      "text/plain": [
       "<Figure size 432x288 with 1 Axes>"
      ]
     },
     "metadata": {
      "needs_background": "light"
     },
     "output_type": "display_data"
    },
    {
     "name": "stdout",
     "output_type": "stream",
     "text": [
      "0    0.0143\n",
      "1    0.0605\n",
      "2       NaN\n",
      "3       NaN\n",
      "4       NaN\n",
      "Name: COMMONAREA_AVG, dtype: float64\n"
     ]
    },
    {
     "data": {
      "image/png": "[encoded data removed]",
      "text/plain": [
       "<Figure size 432x288 with 1 Axes>"
      ]
     },
     "metadata": {
      "needs_background": "light"
     },
     "output_type": "display_data"
    },
    {
     "name": "stdout",
     "output_type": "stream",
     "text": [
      "0    0.00\n",
      "1    0.08\n",
      "2     NaN\n",
      "3     NaN\n",
      "4     NaN\n",
      "Name: ELEVATORS_AVG, dtype: float64\n"
     ]
    },
    {
     "data": {
      "image/png": "[encoded data removed]",
      "text/plain": [
       "<Figure size 432x288 with 1 Axes>"
      ]
     },
     "metadata": {
      "needs_background": "light"
     },
     "output_type": "display_data"
    },
    {
     "name": "stdout",
     "output_type": "stream",
     "text": [
      "0    0.0690\n",
      "1    0.0345\n",
      "2       NaN\n",
      "3       NaN\n",
      "4       NaN\n",
      "Name: ENTRANCES_AVG, dtype: float64\n"
     ]
    },
    {
     "data": {
      "image/png": "[encoded data removed]",
      "text/plain": [
       "<Figure size 432x288 with 1 Axes>"
      ]
     },
     "metadata": {
      "needs_background": "light"
     },
     "output_type": "display_data"
    },
    {
     "name": "stdout",
     "output_type": "stream",
     "text": [
      "0    0.0833\n",
      "1    0.2917\n",
      "2       NaN\n",
      "3       NaN\n",
      "4       NaN\n",
      "Name: FLOORSMAX_AVG, dtype: float64\n"
     ]
    },
    {
     "data": {
      "image/png": "[encoded data removed]",
      "text/plain": [
       "<Figure size 432x288 with 1 Axes>"
      ]
     },
     "metadata": {
      "needs_background": "light"
     },
     "output_type": "display_data"
    },
    {
     "name": "stdout",
     "output_type": "stream",
     "text": [
      "0    0.1250\n",
      "1    0.3333\n",
      "2       NaN\n",
      "3       NaN\n",
      "4       NaN\n",
      "Name: FLOORSMIN_AVG, dtype: float64\n"
     ]
    },
    {
     "data": {
      "image/png": "[encoded data removed]",
      "text/plain": [
       "<Figure size 432x288 with 1 Axes>"
      ]
     },
     "metadata": {
      "needs_background": "light"
     },
     "output_type": "display_data"
    },
    {
     "name": "stdout",
     "output_type": "stream",
     "text": [
      "0    0.0369\n",
      "1    0.0130\n",
      "2       NaN\n",
      "3       NaN\n",
      "4       NaN\n",
      "Name: LANDAREA_AVG, dtype: float64\n"
     ]
    },
    {
     "data": {
      "image/png": "[encoded data removed]",
      "text/plain": [
       "<Figure size 432x288 with 1 Axes>"
      ]
     },
     "metadata": {
      "needs_background": "light"
     },
     "output_type": "display_data"
    },
    {
     "name": "stdout",
     "output_type": "stream",
     "text": [
      "0    0.0202\n",
      "1    0.0773\n",
      "2       NaN\n",
      "3       NaN\n",
      "4       NaN\n",
      "Name: LIVINGAPARTMENTS_AVG, dtype: float64\n"
     ]
    },
    {
     "data": {
      "image/png": "[encoded data removed]",
      "text/plain": [
       "<Figure size 432x288 with 1 Axes>"
      ]
     },
     "metadata": {
      "needs_background": "light"
     },
     "output_type": "display_data"
    },
    {
     "name": "stdout",
     "output_type": "stream",
     "text": [
      "0    0.0190\n",
      "1    0.0549\n",
      "2       NaN\n",
      "3       NaN\n",
      "4       NaN\n",
      "Name: LIVINGAREA_AVG, dtype: float64\n"
     ]
    },
    {
     "data": {
      "image/png": "[encoded data removed]",
      "text/plain": [
       "<Figure size 432x288 with 1 Axes>"
      ]
     },
     "metadata": {
      "needs_background": "light"
     },
     "output_type": "display_data"
    },
    {
     "name": "stdout",
     "output_type": "stream",
     "text": [
      "0    0.0000\n",
      "1    0.0039\n",
      "2       NaN\n",
      "3       NaN\n",
      "4       NaN\n",
      "Name: NONLIVINGAPARTMENTS_AVG, dtype: float64\n"
     ]
    },
    {
     "data": {
      "image/png": "[encoded data removed]",
      "text/plain": [
       "<Figure size 432x288 with 1 Axes>"
      ]
     },
     "metadata": {
      "needs_background": "light"
     },
     "output_type": "display_data"
    },
    {
     "name": "stdout",
     "output_type": "stream",
     "text": [
      "0    0.0000\n",
      "1    0.0098\n",
      "2       NaN\n",
      "3       NaN\n",
      "4       NaN\n",
      "Name: NONLIVINGAREA_AVG, dtype: float64\n"
     ]
    },
    {
     "data": {
      "image/png": "[encoded data removed]",
      "text/plain": [
       "<Figure size 432x288 with 1 Axes>"
      ]
     },
     "metadata": {
      "needs_background": "light"
     },
     "output_type": "display_data"
    },
    {
     "name": "stdout",
     "output_type": "stream",
     "text": [
      "0    0.0252\n",
      "1    0.0924\n",
      "2       NaN\n",
      "3       NaN\n",
      "4       NaN\n",
      "Name: APARTMENTS_MODE, dtype: float64\n"
     ]
    },
    {
     "data": {
      "image/png": "[encoded data removed]",
      "text/plain": [
       "<Figure size 432x288 with 1 Axes>"
      ]
     },
     "metadata": {
      "needs_background": "light"
     },
     "output_type": "display_data"
    },
    {
     "name": "stdout",
     "output_type": "stream",
     "text": [
      "0    0.0383\n",
      "1    0.0538\n",
      "2       NaN\n",
      "3       NaN\n",
      "4       NaN\n",
      "Name: BASEMENTAREA_MODE, dtype: float64\n"
     ]
    },
    {
     "data": {
      "image/png": "[encoded data removed]",
      "text/plain": [
       "<Figure size 432x288 with 1 Axes>"
      ]
     },
     "metadata": {
      "needs_background": "light"
     },
     "output_type": "display_data"
    },
    {
     "name": "stdout",
     "output_type": "stream",
     "text": [
      "0    0.9722\n",
      "1    0.9851\n",
      "2       NaN\n",
      "3       NaN\n",
      "4       NaN\n",
      "Name: YEARS_BEGINEXPLUATATION_MODE, dtype: float64\n"
     ]
    },
    {
     "data": {
      "image/png": "[encoded data removed]",
      "text/plain": [
       "<Figure size 432x288 with 1 Axes>"
      ]
     },
     "metadata": {
      "needs_background": "light"
     },
     "output_type": "display_data"
    },
    {
     "name": "stdout",
     "output_type": "stream",
     "text": [
      "0    0.6341\n",
      "1    0.8040\n",
      "2       NaN\n",
      "3       NaN\n",
      "4       NaN\n",
      "Name: YEARS_BUILD_MODE, dtype: float64\n"
     ]
    },
    {
     "data": {
      "image/png": "[encoded data removed]",
      "text/plain": [
       "<Figure size 432x288 with 1 Axes>"
      ]
     },
     "metadata": {
      "needs_background": "light"
     },
     "output_type": "display_data"
    },
    {
     "name": "stdout",
     "output_type": "stream",
     "text": [
      "0    0.0144\n",
      "1    0.0497\n",
      "2       NaN\n",
      "3       NaN\n",
      "4       NaN\n",
      "Name: COMMONAREA_MODE, dtype: float64\n"
     ]
    },
    {
     "data": {
      "image/png": "[encoded data removed]",
      "text/plain": [
       "<Figure size 432x288 with 1 Axes>"
      ]
     },
     "metadata": {
      "needs_background": "light"
     },
     "output_type": "display_data"
    },
    {
     "name": "stdout",
     "output_type": "stream",
     "text": [
      "0    0.0000\n",
      "1    0.0806\n",
      "2       NaN\n",
      "3       NaN\n",
      "4       NaN\n",
      "Name: ELEVATORS_MODE, dtype: float64\n"
     ]
    },
    {
     "data": {
      "image/png": "[encoded data removed]",
      "text/plain": [
       "<Figure size 432x288 with 1 Axes>"
      ]
     },
     "metadata": {
      "needs_background": "light"
     },
     "output_type": "display_data"
    },
    {
     "name": "stdout",
     "output_type": "stream",
     "text": [
      "0    0.0690\n",
      "1    0.0345\n",
      "2       NaN\n",
      "3       NaN\n",
      "4       NaN\n",
      "Name: ENTRANCES_MODE, dtype: float64\n"
     ]
    },
    {
     "data": {
      "image/png": "[encoded data removed]",
      "text/plain": [
       "<Figure size 432x288 with 1 Axes>"
      ]
     },
     "metadata": {
      "needs_background": "light"
     },
     "output_type": "display_data"
    },
    {
     "name": "stdout",
     "output_type": "stream",
     "text": [
      "0    0.0833\n",
      "1    0.2917\n",
      "2       NaN\n",
      "3       NaN\n",
      "4       NaN\n",
      "Name: FLOORSMAX_MODE, dtype: float64\n"
     ]
    },
    {
     "data": {
      "image/png": "[encoded data removed]",
      "text/plain": [
       "<Figure size 432x288 with 1 Axes>"
      ]
     },
     "metadata": {
      "needs_background": "light"
     },
     "output_type": "display_data"
    },
    {
     "name": "stdout",
     "output_type": "stream",
     "text": [
      "0    0.1250\n",
      "1    0.3333\n",
      "2       NaN\n",
      "3       NaN\n",
      "4       NaN\n",
      "Name: FLOORSMIN_MODE, dtype: float64\n"
     ]
    },
    {
     "data": {
      "image/png": "[encoded data removed]",
      "text/plain": [
       "<Figure size 432x288 with 1 Axes>"
      ]
     },
     "metadata": {
      "needs_background": "light"
     },
     "output_type": "display_data"
    },
    {
     "name": "stdout",
     "output_type": "stream",
     "text": [
      "0    0.0377\n",
      "1    0.0128\n",
      "2       NaN\n",
      "3       NaN\n",
      "4       NaN\n",
      "Name: LANDAREA_MODE, dtype: float64\n"
     ]
    },
    {
     "data": {
      "image/png": "[encoded data removed]",
      "text/plain": [
       "<Figure size 432x288 with 1 Axes>"
      ]
     },
     "metadata": {
      "needs_background": "light"
     },
     "output_type": "display_data"
    },
    {
     "name": "stdout",
     "output_type": "stream",
     "text": [
      "0    0.022\n",
      "1    0.079\n",
      "2      NaN\n",
      "3      NaN\n",
      "4      NaN\n",
      "Name: LIVINGAPARTMENTS_MODE, dtype: float64\n"
     ]
    },
    {
     "data": {
      "image/png": "[encoded data removed]",
      "text/plain": [
       "<Figure size 432x288 with 1 Axes>"
      ]
     },
     "metadata": {
      "needs_background": "light"
     },
     "output_type": "display_data"
    },
    {
     "name": "stdout",
     "output_type": "stream",
     "text": [
      "0    0.0198\n",
      "1    0.0554\n",
      "2       NaN\n",
      "3       NaN\n",
      "4       NaN\n",
      "Name: LIVINGAREA_MODE, dtype: float64\n"
     ]
    },
    {
     "data": {
      "image/png": "[encoded data removed]",
      "text/plain": [
       "<Figure size 432x288 with 1 Axes>"
      ]
     },
     "metadata": {
      "needs_background": "light"
     },
     "output_type": "display_data"
    },
    {
     "name": "stdout",
     "output_type": "stream",
     "text": [
      "0    0.0\n",
      "1    0.0\n",
      "2    NaN\n",
      "3    NaN\n",
      "4    NaN\n",
      "Name: NONLIVINGAPARTMENTS_MODE, dtype: float64\n"
     ]
    },
    {
     "data": {
      "image/png": "[encoded data removed]",
      "text/plain": [
       "<Figure size 432x288 with 1 Axes>"
      ]
     },
     "metadata": {
      "needs_background": "light"
     },
     "output_type": "display_data"
    },
    {
     "name": "stdout",
     "output_type": "stream",
     "text": [
      "0    0.0\n",
      "1    0.0\n",
      "2    NaN\n",
      "3    NaN\n",
      "4    NaN\n",
      "Name: NONLIVINGAREA_MODE, dtype: float64\n"
     ]
    },
    {
     "data": {
      "image/png": "[encoded data removed]",
      "text/plain": [
       "<Figure size 432x288 with 1 Axes>"
      ]
     },
     "metadata": {
      "needs_background": "light"
     },
     "output_type": "display_data"
    },
    {
     "name": "stdout",
     "output_type": "stream",
     "text": [
      "0    0.0250\n",
      "1    0.0968\n",
      "2       NaN\n",
      "3       NaN\n",
      "4       NaN\n",
      "Name: APARTMENTS_MEDI, dtype: float64\n"
     ]
    },
    {
     "data": {
      "image/png": "[encoded data removed]",
      "text/plain": [
       "<Figure size 432x288 with 1 Axes>"
      ]
     },
     "metadata": {
      "needs_background": "light"
     },
     "output_type": "display_data"
    },
    {
     "name": "stdout",
     "output_type": "stream",
     "text": [
      "0    0.0369\n",
      "1    0.0529\n",
      "2       NaN\n",
      "3       NaN\n",
      "4       NaN\n",
      "Name: BASEMENTAREA_MEDI, dtype: float64\n"
     ]
    },
    {
     "data": {
      "image/png": "[encoded data removed]",
      "text/plain": [
       "<Figure size 432x288 with 1 Axes>"
      ]
     },
     "metadata": {
      "needs_background": "light"
     },
     "output_type": "display_data"
    },
    {
     "name": "stdout",
     "output_type": "stream",
     "text": [
      "0    0.9722\n",
      "1    0.9851\n",
      "2       NaN\n",
      "3       NaN\n",
      "4       NaN\n",
      "Name: YEARS_BEGINEXPLUATATION_MEDI, dtype: float64\n"
     ]
    },
    {
     "data": {
      "image/png": "[encoded data removed]",
      "text/plain": [
       "<Figure size 432x288 with 1 Axes>"
      ]
     },
     "metadata": {
      "needs_background": "light"
     },
     "output_type": "display_data"
    },
    {
     "name": "stdout",
     "output_type": "stream",
     "text": [
      "0    0.6243\n",
      "1    0.7987\n",
      "2       NaN\n",
      "3       NaN\n",
      "4       NaN\n",
      "Name: YEARS_BUILD_MEDI, dtype: float64\n"
     ]
    },
    {
     "data": {
      "image/png": "[encoded data removed]",
      "text/plain": [
       "<Figure size 432x288 with 1 Axes>"
      ]
     },
     "metadata": {
      "needs_background": "light"
     },
     "output_type": "display_data"
    },
    {
     "name": "stdout",
     "output_type": "stream",
     "text": [
      "0    0.0144\n",
      "1    0.0608\n",
      "2       NaN\n",
      "3       NaN\n",
      "4       NaN\n",
      "Name: COMMONAREA_MEDI, dtype: float64\n"
     ]
    },
    {
     "data": {
      "image/png": "[encoded data removed]",
      "text/plain": [
       "<Figure size 432x288 with 1 Axes>"
      ]
     },
     "metadata": {
      "needs_background": "light"
     },
     "output_type": "display_data"
    },
    {
     "name": "stdout",
     "output_type": "stream",
     "text": [
      "0    0.00\n",
      "1    0.08\n",
      "2     NaN\n",
      "3     NaN\n",
      "4     NaN\n",
      "Name: ELEVATORS_MEDI, dtype: float64\n"
     ]
    },
    {
     "data": {
      "image/png": "[encoded data removed]",
      "text/plain": [
       "<Figure size 432x288 with 1 Axes>"
      ]
     },
     "metadata": {
      "needs_background": "light"
     },
     "output_type": "display_data"
    },
    {
     "name": "stdout",
     "output_type": "stream",
     "text": [
      "0    0.0690\n",
      "1    0.0345\n",
      "2       NaN\n",
      "3       NaN\n",
      "4       NaN\n",
      "Name: ENTRANCES_MEDI, dtype: float64\n"
     ]
    },
    {
     "data": {
      "image/png": "[encoded data removed]",
      "text/plain": [
       "<Figure size 432x288 with 1 Axes>"
      ]
     },
     "metadata": {
      "needs_background": "light"
     },
     "output_type": "display_data"
    },
    {
     "name": "stdout",
     "output_type": "stream",
     "text": [
      "0    0.0833\n",
      "1    0.2917\n",
      "2       NaN\n",
      "3       NaN\n",
      "4       NaN\n",
      "Name: FLOORSMAX_MEDI, dtype: float64\n"
     ]
    },
    {
     "data": {
      "image/png": "[encoded data removed]",
      "text/plain": [
       "<Figure size 432x288 with 1 Axes>"
      ]
     },
     "metadata": {
      "needs_background": "light"
     },
     "output_type": "display_data"
    },
    {
     "name": "stdout",
     "output_type": "stream",
     "text": [
      "0    0.1250\n",
      "1    0.3333\n",
      "2       NaN\n",
      "3       NaN\n",
      "4       NaN\n",
      "Name: FLOORSMIN_MEDI, dtype: float64\n"
     ]
    },
    {
     "data": {
      "image/png": "[encoded data removed]",
      "text/plain": [
       "<Figure size 432x288 with 1 Axes>"
      ]
     },
     "metadata": {
      "needs_background": "light"
     },
     "output_type": "display_data"
    },
    {
     "name": "stdout",
     "output_type": "stream",
     "text": [
      "0    0.0375\n",
      "1    0.0132\n",
      "2       NaN\n",
      "3       NaN\n",
      "4       NaN\n",
      "Name: LANDAREA_MEDI, dtype: float64\n"
     ]
    },
    {
     "data": {
      "image/png": "[encoded data removed]",
      "text/plain": [
       "<Figure size 432x288 with 1 Axes>"
      ]
     },
     "metadata": {
      "needs_background": "light"
     },
     "output_type": "display_data"
    },
    {
     "name": "stdout",
     "output_type": "stream",
     "text": [
      "0    0.0205\n",
      "1    0.0787\n",
      "2       NaN\n",
      "3       NaN\n",
      "4       NaN\n",
      "Name: LIVINGAPARTMENTS_MEDI, dtype: float64\n"
     ]
    },
    {
     "data": {
      "image/png": "[encoded data removed]",
      "text/plain": [
       "<Figure size 432x288 with 1 Axes>"
      ]
     },
     "metadata": {
      "needs_background": "light"
     },
     "output_type": "display_data"
    },
    {
     "name": "stdout",
     "output_type": "stream",
     "text": [
      "0    0.0193\n",
      "1    0.0558\n",
      "2       NaN\n",
      "3       NaN\n",
      "4       NaN\n",
      "Name: LIVINGAREA_MEDI, dtype: float64\n"
     ]
    },
    {
     "data": {
      "image/png": "[encoded data removed]",
      "text/plain": [
       "<Figure size 432x288 with 1 Axes>"
      ]
     },
     "metadata": {
      "needs_background": "light"
     },
     "output_type": "display_data"
    },
    {
     "name": "stdout",
     "output_type": "stream",
     "text": [
      "0    0.0000\n",
      "1    0.0039\n",
      "2       NaN\n",
      "3       NaN\n",
      "4       NaN\n",
      "Name: NONLIVINGAPARTMENTS_MEDI, dtype: float64\n"
     ]
    },
    {
     "data": {
      "image/png": "[encoded data removed]",
      "text/plain": [
       "<Figure size 432x288 with 1 Axes>"
      ]
     },
     "metadata": {
      "needs_background": "light"
     },
     "output_type": "display_data"
    },
    {
     "name": "stdout",
     "output_type": "stream",
     "text": [
      "0    0.00\n",
      "1    0.01\n",
      "2     NaN\n",
      "3     NaN\n",
      "4     NaN\n",
      "Name: NONLIVINGAREA_MEDI, dtype: float64\n"
     ]
    },
    {
     "data": {
      "image/png": "[encoded data removed]",
      "text/plain": [
       "<Figure size 432x288 with 1 Axes>"
      ]
     },
     "metadata": {
      "needs_background": "light"
     },
     "output_type": "display_data"
    },
    {
     "name": "stdout",
     "output_type": "stream",
     "text": [
      "0    0.0149\n",
      "1    0.0714\n",
      "2       NaN\n",
      "3       NaN\n",
      "4       NaN\n",
      "Name: TOTALAREA_MODE, dtype: float64\n"
     ]
    },
    {
     "data": {
      "image/png": "[encoded data removed]",
      "text/plain": [
       "<Figure size 432x288 with 1 Axes>"
      ]
     },
     "metadata": {
      "needs_background": "light"
     },
     "output_type": "display_data"
    },
    {
     "name": "stdout",
     "output_type": "stream",
     "text": [
      "0    2.0\n",
      "1    1.0\n",
      "2    0.0\n",
      "3    2.0\n",
      "4    0.0\n",
      "Name: OBS_30_CNT_SOCIAL_CIRCLE, dtype: float64\n"
     ]
    },
    {
     "data": {
      "image/png": "[encoded data removed]",
      "text/plain": [
       "<Figure size 432x288 with 1 Axes>"
      ]
     },
     "metadata": {
      "needs_background": "light"
     },
     "output_type": "display_data"
    },
    {
     "name": "stdout",
     "output_type": "stream",
     "text": [
      "0    2.0\n",
      "1    0.0\n",
      "2    0.0\n",
      "3    0.0\n",
      "4    0.0\n",
      "Name: DEF_30_CNT_SOCIAL_CIRCLE, dtype: float64\n"
     ]
    },
    {
     "data": {
      "image/png": "[encoded data removed]",
      "text/plain": [
       "<Figure size 432x288 with 1 Axes>"
      ]
     },
     "metadata": {
      "needs_background": "light"
     },
     "output_type": "display_data"
    },
    {
     "name": "stdout",
     "output_type": "stream",
     "text": [
      "0    2.0\n",
      "1    1.0\n",
      "2    0.0\n",
      "3    2.0\n",
      "4    0.0\n",
      "Name: OBS_60_CNT_SOCIAL_CIRCLE, dtype: float64\n"
     ]
    },
    {
     "data": {
      "image/png": "[encoded data removed]",
      "text/plain": [
       "<Figure size 432x288 with 1 Axes>"
      ]
     },
     "metadata": {
      "needs_background": "light"
     },
     "output_type": "display_data"
    },
    {
     "name": "stdout",
     "output_type": "stream",
     "text": [
      "0    2.0\n",
      "1    0.0\n",
      "2    0.0\n",
      "3    0.0\n",
      "4    0.0\n",
      "Name: DEF_60_CNT_SOCIAL_CIRCLE, dtype: float64\n"
     ]
    },
    {
     "data": {
      "image/png": "[encoded data removed]",
      "text/plain": [
       "<Figure size 432x288 with 1 Axes>"
      ]
     },
     "metadata": {
      "needs_background": "light"
     },
     "output_type": "display_data"
    },
    {
     "name": "stdout",
     "output_type": "stream",
     "text": [
      "0   -1134.0\n",
      "1    -828.0\n",
      "2    -815.0\n",
      "3    -617.0\n",
      "4   -1106.0\n",
      "Name: DAYS_LAST_PHONE_CHANGE, dtype: float64\n"
     ]
    },
    {
     "data": {
      "image/png": "[encoded data removed]",
      "text/plain": [
       "<Figure size 432x288 with 1 Axes>"
      ]
     },
     "metadata": {
      "needs_background": "light"
     },
     "output_type": "display_data"
    },
    {
     "name": "stdout",
     "output_type": "stream",
     "text": [
      "0    0.0\n",
      "1    0.0\n",
      "2    0.0\n",
      "3    NaN\n",
      "4    0.0\n",
      "Name: AMT_REQ_CREDIT_BUREAU_HOUR, dtype: float64\n"
     ]
    },
    {
     "data": {
      "image/png": "[encoded data removed]",
      "text/plain": [
       "<Figure size 432x288 with 1 Axes>"
      ]
     },
     "metadata": {
      "needs_background": "light"
     },
     "output_type": "display_data"
    },
    {
     "name": "stdout",
     "output_type": "stream",
     "text": [
      "0    0.0\n",
      "1    0.0\n",
      "2    0.0\n",
      "3    NaN\n",
      "4    0.0\n",
      "Name: AMT_REQ_CREDIT_BUREAU_DAY, dtype: float64\n"
     ]
    },
    {
     "data": {
      "image/png": "[encoded data removed]",
      "text/plain": [
       "<Figure size 432x288 with 1 Axes>"
      ]
     },
     "metadata": {
      "needs_background": "light"
     },
     "output_type": "display_data"
    },
    {
     "name": "stdout",
     "output_type": "stream",
     "text": [
      "0    0.0\n",
      "1    0.0\n",
      "2    0.0\n",
      "3    NaN\n",
      "4    0.0\n",
      "Name: AMT_REQ_CREDIT_BUREAU_WEEK, dtype: float64\n"
     ]
    },
    {
     "data": {
      "image/png": "[encoded data removed]",
      "text/plain": [
       "<Figure size 432x288 with 1 Axes>"
      ]
     },
     "metadata": {
      "needs_background": "light"
     },
     "output_type": "display_data"
    },
    {
     "name": "stdout",
     "output_type": "stream",
     "text": [
      "0    0.0\n",
      "1    0.0\n",
      "2    0.0\n",
      "3    NaN\n",
      "4    0.0\n",
      "Name: AMT_REQ_CREDIT_BUREAU_MON, dtype: float64\n"
     ]
    },
    {
     "data": {
      "image/png": "[encoded data removed]",
      "text/plain": [
       "<Figure size 432x288 with 1 Axes>"
      ]
     },
     "metadata": {
      "needs_background": "light"
     },
     "output_type": "display_data"
    },
    {
     "name": "stdout",
     "output_type": "stream",
     "text": [
      "0    0.0\n",
      "1    0.0\n",
      "2    0.0\n",
      "3    NaN\n",
      "4    0.0\n",
      "Name: AMT_REQ_CREDIT_BUREAU_QRT, dtype: float64\n"
     ]
    },
    {
     "data": {
      "image/png": "[encoded data removed]",
      "text/plain": [
       "<Figure size 432x288 with 1 Axes>"
      ]
     },
     "metadata": {
      "needs_background": "light"
     },
     "output_type": "display_data"
    },
    {
     "name": "stdout",
     "output_type": "stream",
     "text": [
      "0    1.0\n",
      "1    0.0\n",
      "2    0.0\n",
      "3    NaN\n",
      "4    0.0\n",
      "Name: AMT_REQ_CREDIT_BUREAU_YEAR, dtype: float64\n"
     ]
    },
    {
     "data": {
      "image/png": "[encoded data removed]",
      "text/plain": [
       "<Figure size 432x288 with 1 Axes>"
      ]
     },
     "metadata": {
      "needs_background": "light"
     },
     "output_type": "display_data"
    }
   ],
   "source": [
    "# 先篩選數值型的欄位\n",
    "\"\"\"\n",
    "YOUR CODE HERE, fill correct data types (for example str, float, int, ...)\n",
    "\"\"\"\n",
    "dtype_select = [pd.np.dtype('float64'),pd.np.dtype('int64')]\n",
    "\n",
    "numeric_columns = list(app_train.columns[list(app_train.dtypes.isin(dtype_select))])\n",
    "\n",
    "# 再把只有 2 值 (通常是 0,1) 的欄位去掉\n",
    "numeric_columns = list(app_train[numeric_columns].columns[list(app_train[numeric_columns].apply(lambda x:len(x.unique())!=2 ))])\n",
    "print(\"Numbers of remain columns %s\" % len(numeric_columns))\n",
    "#print(app_train.head())\n",
    "# 檢視這些欄位的數值範圍\n",
    "for col in numeric_columns:\n",
    "    \"\"\"\n",
    "    Your CODE HERE, make the box plot\n",
    "    \"\"\"\n",
    "    print(app_train[col].head())\n",
    "    plt.boxplot(app_train[col])\n",
    "    plt.show()"
   ]
  },
  {
   "cell_type": "code",
   "execution_count": 4,
   "metadata": {},
   "outputs": [],
   "source": [
    "# 從上面的圖檢查的結果，至少這三個欄位好像有點可疑\n",
    "\n",
    "# AMT_INCOME_TOTAL\n",
    "# REGION_POPULATION_RELATIVE\n",
    "# OBS_60_CNT_SOCIAL_CIRCLE"
   ]
  },
  {
   "cell_type": "markdown",
   "metadata": {},
   "source": [
    "### Hints: Emprical Cumulative Density Plot, [ECDF](https://zh.wikipedia.org/wiki/%E7%BB%8F%E9%AA%8C%E5%88%86%E5%B8%83%E5%87%BD%E6%95%B0), [ECDF with Python](https://stackoverflow.com/questions/14006520/ecdf-in-python-without-step-function)"
   ]
  },
  {
   "cell_type": "code",
   "execution_count": 5,
   "metadata": {},
   "outputs": [
    {
     "name": "stdout",
     "output_type": "stream",
     "text": [
      "count    3.075110e+05\n",
      "mean     1.687979e+05\n",
      "std      2.371231e+05\n",
      "min      2.565000e+04\n",
      "25%      1.125000e+05\n",
      "50%      1.471500e+05\n",
      "75%      2.025000e+05\n",
      "max      1.170000e+08\n",
      "Name: AMT_INCOME_TOTAL, dtype: float64\n"
     ]
    }
   ],
   "source": [
    "print(app_train['AMT_INCOME_TOTAL'].describe())"
   ]
  },
  {
   "cell_type": "code",
   "execution_count": 32,
   "metadata": {},
   "outputs": [
    {
     "name": "stdout",
     "output_type": "stream",
     "text": [
      "adf : 135000.0    35750\n",
      "112500.0    31019\n",
      "157500.0    26556\n",
      "180000.0    24719\n",
      "90000.0     22483\n",
      "225000.0    20698\n",
      "202500.0    16341\n",
      "67500.0     11147\n",
      "270000.0    10827\n",
      "81000.0      6001\n",
      "315000.0     5862\n",
      "247500.0     5344\n",
      "126000.0     4668\n",
      "360000.0     4115\n",
      "121500.0     3848\n",
      "99000.0      3633\n",
      "292500.0     3418\n",
      "103500.0     3330\n",
      "76500.0      3146\n",
      "144000.0     3123\n",
      "171000.0     2647\n",
      "450000.0     2435\n",
      "117000.0     2390\n",
      "54000.0      2319\n",
      "72000.0      2187\n",
      "166500.0     2053\n",
      "45000.0      2043\n",
      "108000.0     1946\n",
      "337500.0     1790\n",
      "94500.0      1747\n",
      "            ...  \n",
      "100300.5        1\n",
      "200794.5        1\n",
      "100476.0        1\n",
      "200961.0        1\n",
      "200997.0        1\n",
      "100507.5        1\n",
      "100516.5        1\n",
      "50274.0         1\n",
      "201127.5        1\n",
      "100566.0        1\n",
      "402376.5        1\n",
      "100629.0        1\n",
      "201267.0        1\n",
      "50323.5         1\n",
      "201361.5        1\n",
      "100786.5        1\n",
      "201658.5        1\n",
      "100854.0        1\n",
      "245046.6        1\n",
      "201811.5        1\n",
      "403650.0        1\n",
      "100944.0        1\n",
      "58950.0         1\n",
      "101083.5        1\n",
      "404406.0        1\n",
      "101119.5        1\n",
      "79425.0         1\n",
      "101128.5        1\n",
      "202275.0        1\n",
      "262174.5        1\n",
      "Name: AMT_INCOME_TOTAL, Length: 2548, dtype: int64\n",
      "bdf : 25650.0          2\n",
      "26100.0          3\n",
      "26460.0          1\n",
      "26550.0          2\n",
      "27000.0         66\n",
      "27585.0          1\n",
      "27900.0          7\n",
      "27967.5          1\n",
      "28161.0          1\n",
      "28350.0         11\n",
      "28404.0          1\n",
      "28575.0          3\n",
      "28593.0          1\n",
      "28723.5          1\n",
      "28800.0          3\n",
      "29133.0          1\n",
      "29250.0         32\n",
      "29583.0          1\n",
      "29700.0          3\n",
      "30150.0          7\n",
      "30600.0          6\n",
      "30915.0          1\n",
      "31050.0          1\n",
      "31500.0        184\n",
      "31531.5          1\n",
      "31815.0          1\n",
      "31860.0          1\n",
      "31950.0          4\n",
      "31990.5          1\n",
      "32040.0          1\n",
      "              ... \n",
      "1358550.0        1\n",
      "1381500.0        1\n",
      "1417500.0        1\n",
      "1440000.0        2\n",
      "1530000.0        1\n",
      "1575000.0       18\n",
      "1665000.0        1\n",
      "1755000.0        1\n",
      "1800000.0       14\n",
      "1890000.0        4\n",
      "1935000.0        1\n",
      "2025000.0        8\n",
      "2070000.0        1\n",
      "2160000.0        1\n",
      "2214117.0        1\n",
      "2250000.0       13\n",
      "2475000.0        1\n",
      "2700000.0        1\n",
      "2930026.5        1\n",
      "3150000.0        2\n",
      "3375000.0        2\n",
      "3600000.0        2\n",
      "3825000.0        1\n",
      "3950059.5        1\n",
      "4500000.0        4\n",
      "6750000.0        1\n",
      "9000000.0        1\n",
      "13500000.0       1\n",
      "18000090.0       1\n",
      "117000000.0      1\n",
      "Name: AMT_INCOME_TOTAL, Length: 2548, dtype: int64\n",
      "cdf : 25650.0             2\n",
      "26100.0             5\n",
      "26460.0             6\n",
      "26550.0             8\n",
      "27000.0            74\n",
      "27585.0            75\n",
      "27900.0            82\n",
      "27967.5            83\n",
      "28161.0            84\n",
      "28350.0            95\n",
      "28404.0            96\n",
      "28575.0            99\n",
      "28593.0           100\n",
      "28723.5           101\n",
      "28800.0           104\n",
      "29133.0           105\n",
      "29250.0           137\n",
      "29583.0           138\n",
      "29700.0           141\n",
      "30150.0           148\n",
      "30600.0           154\n",
      "30915.0           155\n",
      "31050.0           156\n",
      "31500.0           340\n",
      "31531.5           341\n",
      "31815.0           342\n",
      "31860.0           343\n",
      "31950.0           347\n",
      "31990.5           348\n",
      "32040.0           349\n",
      "                ...  \n",
      "1358550.0      307423\n",
      "1381500.0      307424\n",
      "1417500.0      307425\n",
      "1440000.0      307427\n",
      "1530000.0      307428\n",
      "1575000.0      307446\n",
      "1665000.0      307447\n",
      "1755000.0      307448\n",
      "1800000.0      307462\n",
      "1890000.0      307466\n",
      "1935000.0      307467\n",
      "2025000.0      307475\n",
      "2070000.0      307476\n",
      "2160000.0      307477\n",
      "2214117.0      307478\n",
      "2250000.0      307491\n",
      "2475000.0      307492\n",
      "2700000.0      307493\n",
      "2930026.5      307494\n",
      "3150000.0      307496\n",
      "3375000.0      307498\n",
      "3600000.0      307500\n",
      "3825000.0      307501\n",
      "3950059.5      307502\n",
      "4500000.0      307506\n",
      "6750000.0      307507\n",
      "9000000.0      307508\n",
      "13500000.0     307509\n",
      "18000090.0     307510\n",
      "117000000.0    307511\n",
      "Name: AMT_INCOME_TOTAL, Length: 2548, dtype: int64\n"
     ]
    }
   ],
   "source": [
    "adf = app_train.AMT_INCOME_TOTAL.value_counts()\n",
    "bdf = app_train.AMT_INCOME_TOTAL.value_counts().sort_index()\n",
    "cdf = app_train.AMT_INCOME_TOTAL.value_counts().sort_index().cumsum()\n",
    "print (\"adf :\",adf)\n",
    "print (\"bdf :\",bdf)\n",
    "print (\"cdf :\",cdf)\n"
   ]
  },
  {
   "cell_type": "code",
   "execution_count": 39,
   "metadata": {},
   "outputs": [
    {
     "name": "stdout",
     "output_type": "stream",
     "text": [
      "25650.0             2\n",
      "26100.0             5\n",
      "26460.0             6\n",
      "26550.0             8\n",
      "27000.0            74\n",
      "27585.0            75\n",
      "27900.0            82\n",
      "27967.5            83\n",
      "28161.0            84\n",
      "28350.0            95\n",
      "28404.0            96\n",
      "28575.0            99\n",
      "28593.0           100\n",
      "28723.5           101\n",
      "28800.0           104\n",
      "29133.0           105\n",
      "29250.0           137\n",
      "29583.0           138\n",
      "29700.0           141\n",
      "30150.0           148\n",
      "30600.0           154\n",
      "30915.0           155\n",
      "31050.0           156\n",
      "31500.0           340\n",
      "31531.5           341\n",
      "31815.0           342\n",
      "31860.0           343\n",
      "31950.0           347\n",
      "31990.5           348\n",
      "32040.0           349\n",
      "                ...  \n",
      "1358550.0      307423\n",
      "1381500.0      307424\n",
      "1417500.0      307425\n",
      "1440000.0      307427\n",
      "1530000.0      307428\n",
      "1575000.0      307446\n",
      "1665000.0      307447\n",
      "1755000.0      307448\n",
      "1800000.0      307462\n",
      "1890000.0      307466\n",
      "1935000.0      307467\n",
      "2025000.0      307475\n",
      "2070000.0      307476\n",
      "2160000.0      307477\n",
      "2214117.0      307478\n",
      "2250000.0      307491\n",
      "2475000.0      307492\n",
      "2700000.0      307493\n",
      "2930026.5      307494\n",
      "3150000.0      307496\n",
      "3375000.0      307498\n",
      "3600000.0      307500\n",
      "3825000.0      307501\n",
      "3950059.5      307502\n",
      "4500000.0      307506\n",
      "6750000.0      307507\n",
      "9000000.0      307508\n",
      "13500000.0     307509\n",
      "18000090.0     307510\n",
      "117000000.0    307511\n",
      "Name: AMT_INCOME_TOTAL, Length: 2548, dtype: int64\n"
     ]
    }
   ],
   "source": [
    "print(cdf)"
   ]
  },
  {
   "cell_type": "code",
   "execution_count": 38,
   "metadata": {},
   "outputs": [
    {
     "name": "stdout",
     "output_type": "stream",
     "text": [
      "[25650.0, 26100.0, 26460.0, 26550.0, 27000.0, 27585.0, 27900.0, 27967.5, 28161.0, 28350.0, 28404.0, 28575.0, 28593.0, 28723.5, 28800.0, 29133.0, 29250.0, 29583.0, 29700.0, 30150.0, 30600.0, 30915.0, 31050.0, 31500.0, 31531.5, 31815.0, 31860.0, 31950.0, 31990.5, 32040.0, 32139.0, 32211.0, 32220.0, 32400.0, 32625.0, 32634.0, 32692.5, 32850.0, 32967.0, 32994.0, 33165.0, 33214.5, 33300.0, 33750.0, 33885.0, 34042.5, 34052.715, 34200.0, 34650.0, 34785.0, 34852.5, 34875.0, 35046.0, 35100.0, 35482.5, 35550.0, 36000.0, 36180.0, 36382.5, 36436.5, 36450.0, 36607.5, 36652.5, 36679.5, 36828.0, 36900.0, 37008.0, 37273.5, 37350.0, 37710.0, 37800.0, 37854.0, 38025.0, 38250.0, 38419.155, 38457.0, 38700.0, 39087.0, 39150.0, 39307.5, 39339.0, 39600.0, 40050.0, 40149.0, 40203.0, 40230.0, 40275.0, 40306.5, 40500.0, 40707.0, 40738.5, 40950.0, 41004.0, 41130.0, 41148.0, 41211.0, 41314.5, 41332.5, 41400.0, 41485.5, 41850.0, 41940.0, 41989.5, 42300.0, 42367.5, 42390.0, 42750.0, 42867.0, 43011.0, 43020.0, 43200.0, 43285.5, 43290.0, 43425.0, 43650.0, 43884.0, 43969.5, 44037.0, 44100.0, 44248.5, 44325.0, 44338.5, 44370.0, 44550.0, 44604.0, 44955.0, 45000.0, 45184.5, 45238.5, 45279.0, 45292.5, 45346.5, 45450.0, 45522.0, 45540.0, 45558.0, 45675.0, 45792.0, 45900.0, 45922.5, 46012.5, 46044.0, 46120.5, 46350.0, 46512.0, 46566.0, 46800.0, 46948.5, 46980.0, 47191.5, 47196.0, 47250.0, 47304.0, 47353.5, 47700.0, 47790.0, 48010.5, 48042.0, 48150.0, 48181.5, 48262.5, 48492.0, 48600.0, 48780.0, 48883.5, 49005.0, 49050.0, 49365.0, 49500.0, 49522.5, 49549.5, 49716.0, 49783.5, 49950.0, 50085.0, 50274.0, 50323.5, 50400.0, 50625.0, 50715.0, 50850.0, 50985.0, 51030.0, 51187.5, 51210.0, 51300.0, 51421.5, 51430.5, 51570.0, 51642.0, 51691.5, 51750.0, 51817.5, 51840.0, 52200.0, 52303.5, 52425.0, 52438.5, 52470.0, 52515.0, 52582.5, 52650.0, 52726.5, 53100.0, 53140.5, 53352.0, 53478.0, 53550.0, 53613.0, 53685.0, 53752.5, 53869.5, 53977.5, 54000.0, 54027.0, 54045.0, 54157.5, 54450.0, 54787.5, 54900.0, 54994.5, 55350.0, 55665.0, 55746.0, 55800.0, 55881.0, 56025.0, 56209.5, 56250.0, 56313.0, 56349.0, 56529.0, 56610.0, 56641.5, 56646.765, 56695.5, 56700.0, 56740.5, 56776.5, 56902.5, 56979.0, 56997.0, 57046.5, 57150.0, 57559.5, 57600.0, 57915.0, 57924.0, 57960.0, 58050.0, 58063.5, 58243.5, 58500.0, 58518.0, 58725.0, 58729.5, 58806.0, 58945.5, 58950.0, 59049.0, 59067.0, 59076.0, 59130.0, 59134.5, 59265.0, 59278.5, 59400.0, 59850.0, 60075.0, 60300.0, 60376.5, 60750.0, 60889.5, 61119.0, 61200.0, 61326.0, 61650.0, 61699.5, 61830.0, 61875.0, 61920.0, 61965.0, 62100.0, 62181.0, 62284.5, 62361.0, 62460.0, 62523.0, 62541.0, 62550.0, 62613.0, 62653.5, 63000.0, 63049.5, 63139.5, 63171.0, 63315.0, 63450.0, 63544.5, 63553.5, 63661.5, 63765.0, 63837.0, 63850.5, 63900.0, 64080.0, 64174.5, 64215.0, 64350.0, 64404.0, 64498.5, 64557.0, 64579.5, 64584.0, 64732.5, 64800.0, 64890.0, 64939.05, 64962.0, 65025.0, 65250.0, 65286.0, 65520.0, 65524.5, 65700.0, 65884.5, 65902.5, 65997.0, 66060.0, 66087.0, 66150.0, 66330.0, 66600.0, 66843.0, 66874.5, 67023.0, 67050.0, 67275.0, 67500.0, 67567.5, 67725.0, 67950.0, 68004.0, 68123.115, 68188.5, 68400.0, 68481.0, 68841.0, 68850.0, 68886.0, 68940.0, 69012.0, 69183.0, 69246.0, 69300.0, 69372.0, 69525.0, 69642.0, 69646.5, 69750.0, 69943.5, 70024.5, 70047.0, 70137.0, 70200.0, 70209.0, 70380.0, 70470.0, 70528.5, 70578.0, 70636.5, 70650.0, 70798.5, 70834.5, 70920.0, 70987.5, 71023.5, 71100.0, 71127.0, 71154.0, 71172.0, 71545.5, 71550.0, 71662.5, 71694.0, 71748.0, 71995.5, 72000.0, 72013.5, 72207.0, 72450.0, 72508.5, 72558.0, 72864.0, 72900.0, 72922.5, 72990.0, 73080.0, 73125.0, 73161.0, 73341.0, 73350.0, 73368.0, 73561.5, 73575.0, 73615.5, 73624.5, 73647.0, 73714.5, 73759.5, 73800.0, 73885.5, 73944.0, 73980.0, 73998.0, 74025.0, 74029.5, 74038.5, 74061.0, 74250.0, 74313.0, 74344.5, 74475.0, 74511.0, 74659.5, 74700.0, 74749.5, 74898.0, 74970.0, 75150.0, 75267.0, 75339.0, 75510.0, 75550.5, 75600.0, 75634.65, 75667.5, 76050.0, 76248.0, 76455.0, 76500.0, 76536.0, 76639.5, 76675.5, 76680.0, 76729.5, 76842.0, 76950.0, 76995.0, 77175.0, 77211.0, 77332.5, 77400.0, 77449.5, 77539.5, 77580.0, 77625.0, 77647.5, 77719.5, 77850.0, 77854.5, 77881.5, 77890.5, 77953.5, 77962.5, 77985.0, 77998.5, 78061.5, 78075.0, 78084.0, 78156.0, 78160.5, 78250.5, 78255.0, 78300.0, 78349.5, 78403.5, 78408.0, 78475.5, 78561.0, 78664.5, 78691.5, 78750.0, 78916.5, 78930.0, 79029.45, 79078.5, 79200.0, 79249.5, 79335.0, 79425.0, 79560.0, 79569.0, 79650.0, 79767.0, 79875.0, 80032.5, 80086.5, 80100.0, 80194.5, 80302.5, 80325.0, 80383.5, 80397.0, 80550.0, 80761.5, 81000.0, 81180.0, 81193.5, 81243.0, 81373.5, 81436.5, 81450.0, 81522.0, 81562.5, 81688.5, 81724.5, 81747.0, 81751.5, 81774.0, 81810.0, 81900.0, 82260.0, 82350.0, 82413.0, 82498.5, 82530.0, 82534.5, 82575.0, 82624.5, 82800.0, 82903.5, 82948.5, 83025.0, 83128.5, 83250.0, 83304.0, 83322.0, 83479.5, 83700.0, 83790.0, 83916.0, 83970.0, 83997.0, 84028.5, 84069.0, 84150.0, 84505.5, 84577.5, 84600.0, 85023.0, 85050.0, 85374.0, 85500.0, 85702.5, 85761.0, 85918.5, 85950.0, 86058.0, 86116.5, 86130.0, 86310.0, 86400.0, 86517.0, 86850.0, 86904.0, 86994.0, 87007.5, 87129.0, 87151.5, 87210.0, 87223.5, 87232.5, 87268.5, 87300.0, 87394.5, 87403.5, 87444.0, 87448.5, 87493.5, 87619.5, 87750.0, 87763.5, 87840.0, 87890.58, 87925.5, 88020.0, 88087.5, 88132.5, 88200.0, 88434.0, 88483.5, 88515.0, 88650.0, 88656.75, 88686.0, 88843.5, 89100.0, 89253.0, 89325.0, 89550.0, 89595.0, 89874.0, 89919.0, 89995.5, 90000.0, 90018.0, 90045.0, 90166.5, 90288.0, 90382.5, 90414.0, 90441.0, 90499.5, 90612.0, 90615.15, 90712.62, 90810.0, 90877.5, 90900.0, 90927.0, 91008.0, 91048.5, 91188.0, 91233.0, 91269.0, 91350.0, 91458.0, 91530.0, 91552.5, 91620.0, 91638.0, 91800.0, 92250.0, 92376.0, 92385.0, 92457.0, 92489.85, 92592.0, 92700.0, 92943.0, 93010.5, 93114.0, 93150.0, 93163.5, 93177.0, 93217.5, 93235.5, 93478.5, 93550.5, 93600.0, 93627.0, 93667.5, 93672.0, 93699.0, 93748.5, 93910.5, 93919.5, 93942.0, 93951.0, 93960.0, 93991.5, 94027.5, 94050.0, 94450.5, 94500.0, 94554.0, 94603.5, 94716.0, 94837.5, 94950.0, 95188.5, 95400.0, 95463.0, 95580.0, 95778.0, 95827.5, 95850.0, 95904.0, 95917.5, 96075.0, 96120.0, 96228.0, 96295.5, 96300.0, 96358.5, 96453.0, 96525.0, 96579.0, 96750.0, 96763.5, 96768.0, 96804.0, 96835.5, 96907.5, 96961.5, 97123.5, 97200.0, 97425.0, 97641.0, 97650.0, 97726.5, 97731.0, 97830.0, 97834.5, 97875.0, 97893.0, 97915.5, 97951.5, 97978.5, 98100.0, 98158.5, 98302.5, 98356.5, 98419.5, 98433.0, 98550.0, 98698.5, 98955.0, 99000.0, 99031.5, 99238.5, 99252.0, 99283.5, 99301.5, 99328.5, 99364.5, 99450.0, 99490.5, 99504.0, 99526.5, 99634.5, 99675.0, 99796.5, 99900.0, 100071.0, 100089.0, 100125.0, 100278.0, 100300.5, 100350.0, 100476.0, 100507.5, 100516.5, 100566.0, 100629.0, 100786.5, 100800.0, 100854.0, 100944.0, 101083.5, 101119.5, 101128.5, 101164.5, 101250.0, 101362.5, 101520.0, 101700.0, 101740.5, 101826.0, 101835.0, 101902.5, 102024.0, 102150.0, 102222.0, 102343.5, 102352.5, 102465.0, 102546.0, 102600.0, 102694.5, 102780.0, 103000.5, 103041.0, 103050.0, 103149.0, 103230.0, 103387.5, 103401.0, 103432.5, 103500.0, 103729.5, 103761.0, 103801.5, 103810.5, 103815.0, 103824.0, 103837.5, 103842.0, 103950.0, 104008.5, 104017.5, 104112.0, 104139.0, 104175.0, 104202.0, 104247.0, 104382.0, 104391.0, 104400.0, 104436.0, 104611.5, 104701.5, 104755.5, 104850.0, 104953.5, 104998.5, 105084.0, 105120.0, 105142.5, 105241.5, 105300.0, 105345.0, 105475.5, 105552.0, 105610.5, 105705.0, 105750.0, 105768.0, 105840.0, 105975.0, 105984.0, 106056.0, 106096.5, 106200.0, 106348.5, 106362.0, 106371.0, 106398.0, 106425.0, 106434.0, 106573.5, 106650.0, 106713.0, 106870.5, 106875.0, 106920.0, 107100.0, 107136.0, 107251.65, 107284.5, 107397.0, 107406.0, 107437.5, 107500.5, 107550.0, 107554.5, 107649.0, 107725.5, 107752.5, 107797.5, 107824.5, 107896.5, 108000.0, 108450.0, 108454.5, 108504.0, 108765.0, 108855.0, 108859.5, 108900.0, 108904.5, 109170.0, 109260.0, 109300.5, 109341.0, 109350.0, 109458.0, 109467.0, 109498.5, 109575.0, 109603.35, 109800.0, 109899.0, 110025.0, 110052.0, 110187.0, 110200.5, 110250.0, 110254.5, 110331.0, 110353.5, 110376.0, 110403.0, 110475.0, 110700.0, 111150.0, 111217.5, 111249.0, 111510.0, 111600.0, 111618.0, 111640.5, 111915.0, 111919.5, 112018.5, 112050.0, 112158.0, 112230.0, 112266.0, 112279.5, 112333.5, 112428.0, 112491.0, 112500.0, 112549.5, 112558.5, 112608.0, 112734.0, 112795.65, 112810.5, 112833.0, 112950.0, 113008.5, 113062.5, 113098.5, 113238.0, 113260.5, 113301.0, 113400.0, 113710.5, 113742.0, 113850.0, 114066.0, 114075.0, 114201.0, 114210.0, 114300.0, 114336.0, 114349.5, 114421.5, 114435.0, 114457.5, 114462.0, 114750.0, 114840.0, 114916.5, 114934.5, 115020.0, 115200.0, 115227.0, 115290.0, 115335.0, 115515.0, 115533.0, 115546.5, 115560.0, 115650.0, 115744.5, 116014.5, 116032.5, 116100.0, 116212.5, 116424.0, 116550.0, 116604.0, 116653.5, 116658.0, 116775.0, 117000.0, 117130.5, 117189.0, 117243.0, 117283.5, 117319.5, 117324.0, 117423.0, 117436.5, 117450.0, 117513.0, 117522.0, 117553.5, 117639.0, 117765.0, 117900.0, 117949.5, 117985.5, 117990.0, 118039.5, 118048.5, 118197.0, 118233.0, 118292.85, 118350.0, 118498.5, 118593.0, 118642.5, 118800.0, 118975.5, 119119.5, 119232.0, 119250.0, 119353.5, 119407.5, 119457.0, 119475.0, 119578.5, 119677.5, 119700.0, 119862.0, 120042.0, 120060.0, 120150.0, 120325.5, 120339.0, 120384.0, 120456.0, 120505.5, 120600.0, 120753.0, 120784.5, 120820.5, 121050.0, 121162.5, 121198.5, 121284.0, 121297.5, 121360.5, 121387.5, 121500.0, 121900.5, 121950.0, 122202.0, 122350.5, 122400.0, 122485.5, 122503.5, 122679.0, 122688.0, 122841.0, 122850.0, 122985.0, 123075.0, 123133.5, 123219.0, 123300.0, 123354.0, 123480.0, 123525.0, 123588.0, 123646.5, 123736.5, 123750.0, 123786.0, 123876.0, 123916.5, 123975.0, 124006.5, 124141.5, 124200.0, 124425.0, 124438.5, 124479.0, 124501.5, 124650.0, 124713.0, 124978.5, 125032.5, 125100.0, 125316.0, 125550.0, 125698.5, 125730.0, 125901.45, 125910.0, 126000.0, 126063.0, 126261.0, 126346.5, 126450.0, 126468.0, 126652.5, 126679.5, 126711.0, 126733.5, 126751.5, 126823.5, 126832.5, 126900.0, 127102.5, 127125.0, 127350.0, 127372.5, 127449.0, 127498.5, 127561.5, 127800.0, 127831.5, 127890.0, 127926.0, 128250.0, 128340.0, 128407.5, 128511.0, 128542.5, 128646.0, 128695.5, 128700.0, 128947.5, 128997.0, 129060.0, 129150.0, 129195.0, 129222.0, 129226.5, 129375.0, 129451.5, 129600.0, 129748.5, 129825.0, 129982.5, 130050.0, 130059.0, 130342.5, 130486.5, 130500.0, 130572.0, 130662.0, 130837.5, 130950.0, 131098.5, 131125.5, 131247.0, 131400.0, 131422.5, 131481.0, 131494.5, 131584.5, 131706.0, 131850.0, 131854.5, 131913.0, 131998.5, 132075.0, 132300.0, 132372.0, 132381.0, 132588.0, 132601.5, 132673.5, 132678.0, 132718.5, 132750.0, 132808.5, 132826.5, 132975.0, 133110.0, 133155.0, 133200.0, 133290.0, 133330.5, 133461.0, 133492.5, 133497.0, 133564.5, 133650.0, 133762.5, 133843.5, 133875.0, 133965.0, 134100.0, 134149.5, 134248.5, 134401.95, 134415.0, 134419.5, 134550.0, 134662.5, 134887.5, 134995.5, 135000.0, 135256.5, 135373.5, 135418.5, 135450.0, 135499.5, 135774.0, 135850.5, 135900.0, 135927.0, 136138.5, 136350.0, 136480.5, 136620.0, 136710.0, 136800.0, 136962.0, 137025.0, 137029.5, 137097.0, 137191.5, 137250.0, 137358.0, 137430.0, 137524.5, 137655.0, 137664.0, 137677.5, 137700.0, 137821.5, 137880.0, 137997.0, 138105.0, 138150.0, 138172.5, 138208.5, 138226.5, 138288.15, 138303.0, 138330.0, 138375.0, 138402.0, 138541.5, 138559.5, 138586.5, 138600.0, 138748.5, 138937.5, 138973.5, 139050.0, 139171.5, 139207.5, 139351.5, 139446.0, 139455.0, 139468.5, 139500.0, 139536.0, 139635.0, 139950.0, 139986.0, 140022.0, 140152.5, 140249.7, 140400.0, 140562.0, 140625.0, 140800.5, 140814.0, 140850.0, 140998.5, 141016.5, 141075.0, 141106.5, 141111.0, 141241.5, 141264.0, 141300.0, 141408.0, 141439.5, 141444.0, 141457.5, 141493.5, 141525.0, 141606.0, 141727.5, 141750.0, 141867.0, 141912.0, 142042.5, 142200.0, 142425.0, 142438.5, 142497.0, 142587.0, 142650.0, 142816.5, 142897.5, 142992.0, 143005.5, 143073.0, 143100.0, 143248.5, 143451.0, 143464.5, 143527.5, 143550.0, 143559.0, 143631.0, 143653.5, 143739.0, 143775.0, 143847.0, 143932.5, 144000.0, 144261.0, 144360.0, 144450.0, 144567.0, 144625.5, 144742.5, 144855.0, 144900.0, 144904.5, 144985.5, 145044.0, 145192.5, 145350.0, 145480.5, 145498.5, 145503.0, 145507.5, 145800.0, 146016.0, 146250.0, 146547.0, 146623.5, 146659.5, 146700.0, 146749.5, 146771.91, 146812.5, 146997.0, 147150.0, 147447.0, 147600.0, 147766.5, 147870.0, 147955.5, 148032.0, 148050.0, 148423.5, 148500.0, 148513.5, 148581.0, 148585.5, 148657.5, 148770.0, 148950.0, 149152.5, 149247.0, 149323.5, 149400.0, 149422.5, 149553.0, 149796.0, 149836.5, 149850.0, 150039.0, 150102.0, 150300.0, 150385.5, 150493.5, 150525.0, 150601.5, 150691.5, 150750.0, 150799.5, 150808.5, 150952.5, 151200.0, 151276.5, 151281.0, 151303.5, 151348.5, 151425.0, 151641.0, 151650.0, 151785.0, 151884.0, 151929.0, 152100.0, 152293.5, 152334.0, 152392.5, 152415.0, 152455.5, 152478.0, 152550.0, 152694.0, 152874.0, 153000.0, 153130.5, 153450.0, 153495.0, 153607.5, 153612.0, 153639.0, 153675.0, 153729.0, 153747.0, 153900.0, 153990.0, 153999.0, 154125.0, 154282.5, 154350.0, 154642.5, 154800.0, 154867.5, 154966.5, 155002.5, 155250.0, 155403.0, 155700.0, 155790.0, 155902.5, 155997.0, 156141.0, 156150.0, 156600.0, 156703.5, 156829.5, 156978.0, 157005.0, 157050.0, 157486.5, 157500.0, 157576.5, 157635.0, 157707.0, 157905.0, 157950.0, 158035.5, 158040.0, 158053.5, 158400.0, 158782.5, 158850.0, 159300.0, 159376.5, 159408.0, 159435.0, 159579.0, 159597.0, 159750.0, 159880.5, 159975.0, 159979.5, 160200.0, 160294.5, 160425.0, 160470.0, 160515.0, 160560.0, 160650.0, 160780.5, 160933.5, 160978.5, 161100.0, 161149.5, 161244.0, 161307.0, 161329.5, 161536.5, 161550.0, 161554.5, 161694.0, 161815.5, 162000.0, 162279.0, 162450.0, 162643.5, 162900.0, 162981.0, 163255.5, 163260.0, 163350.0, 163363.5, 163638.0, 163795.5, 163800.0, 163966.5, 164133.0, 164250.0, 164430.0, 164700.0, 164767.5, 164799.0, 164898.0, 164997.0, 165150.0, 165177.0, 165600.0, 165735.0, 165798.0, 165861.0, 165973.5, 166005.0, 166050.0, 166140.0, 166500.0, 166950.0, 167031.0, 167242.5, 167310.0, 167319.0, 167368.5, 167400.0, 167490.0, 167526.0, 167629.5, 167692.5, 167805.0, 167850.0, 168241.5, 168300.0, 168718.5, 168750.0, 168930.0, 169137.0, 169182.0, 169200.0, 169335.0, 169348.5, 169416.0, 169497.0, 169591.5, 169650.0, 169771.5, 170041.5, 170100.0, 170302.5, 170343.0, 170550.0, 170734.5, 170784.0, 170910.0, 170937.0, 171000.0, 171036.0, 171045.0, 171067.5, 171261.0, 171369.0, 171441.0, 171450.0, 171544.5, 171643.5, 171900.0, 172350.0, 172498.5, 172800.0, 172854.0, 173025.0, 173088.0, 173115.0, 173160.0, 173178.0, 173250.0, 173353.5, 173367.0, 173376.0, 173502.0, 173520.0, 173524.5, 173700.0, 174118.5, 174150.0, 174312.0, 174348.0, 174420.0, 174424.5, 174442.5, 174514.5, 174600.0, 174681.0, 174748.5, 174807.0, 174870.0, 174897.0, 174924.0, 175050.0, 175108.5, 175500.0, 175531.5, 175698.0, 175761.0, 175950.0, 175954.5, 176040.0, 176067.0, 176175.0, 176400.0, 176458.5, 176850.0, 176958.0, 176998.5, 177012.0, 177300.0, 177448.5, 177750.0, 177786.0, 177966.0, 177993.0, 178029.0, 178065.0, 178200.0, 178447.5, 178589.7, 178591.5, 178650.0, 178735.5, 179100.0, 179163.0, 179248.5, 179271.0, 179550.0, 180000.0, 180090.0, 180117.0, 180234.0, 180472.5, 180598.5, 180900.0, 180999.0, 181084.5, 181260.0, 181498.5, 181696.5, 181701.0, 181800.0, 182250.0, 182524.5, 182646.0, 182700.0, 182745.0, 183042.45, 183150.0, 183357.0, 183375.0, 183600.0, 183726.0, 183825.0, 184135.5, 184203.0, 184270.5, 184500.0, 184522.5, 184635.0, 184869.0, 184882.5, 184950.0, 185247.0, 185310.0, 185400.0, 185634.0, 185850.0, 185904.0, 185985.0, 186025.5, 186151.5, 186174.0, 186273.9, 186300.0, 186480.0, 186750.0, 186885.0, 187110.0, 187200.0, 187222.5, 187267.5, 187497.0, 187650.0, 188100.0, 188244.0, 188550.0, 188626.5, 188667.0, 189000.0, 189148.5, 189229.5, 189238.5, 189450.0, 189630.0, 189715.5, 189900.0, 189972.0, 190350.0, 190399.5, 190440.0, 190467.0, 190611.0, 190800.0, 191142.0, 191250.0, 191317.5, 191475.0, 191651.535, 191695.5, 191700.0, 192091.5, 192150.0, 192163.5, 192514.5, 192600.0, 192694.5, 192825.0, 193050.0, 193140.0, 193396.5, 193500.0, 193657.5, 193684.5, 193765.5, 193792.5, 193905.0, 193950.0, 194121.0, 194157.0, 194400.0, 194445.0, 194625.0, 194670.0, 194809.5, 194850.0, 194890.5, 195300.0, 195430.5, 195525.0, 195736.95, 195750.0, 196200.0, 196245.0, 196434.0, 196546.5, 196564.5, 196591.5, 196605.0, 196650.0, 197005.5, 197100.0, 197158.5, 197433.0, 197550.0, 197721.0, 197973.0, 198000.0, 198256.5, 198315.0, 198378.0, 198675.0, 198900.0, 199273.5, 199350.0, 199498.5, 199800.0, 200025.0, 200250.0, 200479.5, 200592.0, 200700.0, 200794.5, 200961.0, 200997.0, 201127.5, 201150.0, 201267.0, 201361.5, 201600.0, 201658.5, 201811.5, 202050.0, 202275.0, 202500.0, 202806.0, 202873.5, 202950.0, 202990.5, 203134.5, 203197.5, 203301.0, 203400.0, 203580.0, 203850.0, 203998.5, 204025.5, 204300.0, 204750.0, 205200.0, 205348.5, 205650.0, 205830.0, 206100.0, 206289.0, 206550.0, 206698.5, 206743.5, 207000.0, 207450.0, 207486.0, 207900.0, 208098.0, 208350.0, 208786.5, 208800.0, 209025.0, 209241.0, 209250.0, 209430.0, 209587.5, 209700.0, 209713.5, 209929.5, 209970.0, 209992.5, 210078.0, 210150.0, 210375.0, 210442.5, 210600.0, 210856.5, 211050.0, 211216.5, 211275.0, 211392.0, 211500.0, 211603.5, 211932.0, 211954.5, 212062.5, 212233.5, 212400.0, 213300.0, 213601.5, 213750.0, 214200.0, 214555.5, 214560.0, 214650.0, 215100.0, 215325.0, 215487.0, 215550.0, 215689.5, 216000.0, 216022.5, 216630.0, 216900.0, 217125.0, 217300.5, 217350.0, 217498.5, 217647.0, 217800.0, 217908.0, 218200.5, 218250.0, 218443.5, 218461.5, 218569.5, 218587.5, 218623.5, 218700.0, 218925.0, 219114.0, 219150.0, 219262.5, 219375.0, 219930.93, 220050.0, 220131.0, 220500.0, 221148.0, 221247.0, 221400.0, 221850.0, 222750.0, 222763.5, 223155.0, 223200.0, 223425.0, 223488.0, 223650.0, 223807.5, 223857.0, 223915.5, 224100.0, 224399.025, 224802.0, 224949.735, 224995.5, 225000.0, 225112.5, 225117.0, 225450.0, 225765.0, 225792.0, 225900.0, 226152.0, 226291.5, 226350.0, 226512.0, 227250.0, 227700.0, 227997.0, 228150.0, 228600.0, 228825.0, 228861.0, 228928.5, 229500.0, 229554.0, 229702.5, 229932.0, 230332.5, 230400.0, 230710.5, 230850.0, 231075.0, 231300.0, 231430.5, 231700.5, 231741.0, 231750.0, 232200.0, 232497.0, 232650.0, 232785.0, 232875.0, 233100.0, 233406.0, 233482.5, 233595.0, 234000.0, 234054.0, 234135.0, 234184.5, 234450.0, 234472.5, 234823.5, 234900.0, 235107.0, 235327.5, 235350.0, 235458.0, 235530.0, 235575.0, 235849.5, 235930.5, 235993.5, 236205.0, 236250.0, 236682.0, 236700.0, 236799.0, 236880.0, 237150.0, 237577.5, 237600.0, 237753.0, 238050.0, 238477.5, 238500.0, 238864.5, 239400.0, 239850.0, 239998.5, 240300.0, 240750.0, 241200.0, 241650.0, 242100.0, 242550.0, 242631.0, 242941.5, 243000.0, 243675.0, 243900.0, 244350.0, 244800.0, 245046.6, 245182.5, 245250.0, 245700.0, 245896.02, 246483.0, 246600.0, 246996.0, 247500.0, 247621.5, 247675.5, 247738.5, 247891.5, 248400.0, 248652.0, 248782.5, 248841.0, 248850.0, 249750.0, 250078.5, 250200.0, 250263.0, 250785.0, 250794.0, 251100.0, 251212.5, 251325.0, 251662.5, 252000.0, 252450.0, 252675.0, 252900.0, 253323.0, 253350.0, 253467.0, 253503.0, 253800.0, 253890.0, 254250.0, 254322.0, 254475.0, 254700.0, 254907.0, 255150.0, 255600.0, 255645.0, 256050.0, 256297.5, 256405.5, 256500.0, 256950.0, 257323.5, 257400.0, 257625.0, 257850.0, 258300.0, 258750.0, 258880.5, 259186.5, 259200.0, 260100.0, 260190.0, 260613.0, 260820.0, 261000.0, 261328.5, 261900.0, 262062.0, 262174.5, 262350.0, 262503.0, 262647.0, 262800.0, 263250.0, 263281.5, 263610.0, 263655.0, 263700.0, 264150.0, 264543.75, 264901.5, 264910.5, 265234.5, 265491.0, 265500.0, 265567.5, 265581.0, 265693.5, 265950.0, 266085.0, 266089.5, 266400.0, 267075.0, 267300.0, 267529.5, 267750.0, 268200.0, 268578.0, 268650.0, 269100.0, 269311.5, 269397.0, 269613.0, 270000.0, 270013.5, 270540.0, 271350.0, 271800.0, 272079.0, 272250.0, 273150.0, 274050.0, 274243.5, 274500.0, 274590.0, 275850.0, 276300.0, 276750.0, 277177.5, 277497.0, 278446.95, 278910.0, 279000.0, 280350.0, 280498.5, 280941.3, 281250.0, 281880.0, 282073.5, 282501.0, 282600.0, 283185.0, 283500.0, 283837.5, 283882.5, 284112.0, 284400.0, 284850.0, 285043.5, 285300.0, 285750.0, 286200.0, 287550.0, 287752.5, 288000.0, 288252.0, 289350.0, 289800.0, 290250.0, 290700.0, 290826.0, 291478.5, 292050.0, 292414.5, 292446.0, 292500.0, 292873.5, 293148.0, 293400.0, 293418.0, 293625.0, 293850.0, 294300.0, 294448.5, 294750.0, 295650.0, 296068.5, 296100.0, 296199.0, 296235.0, 296316.0, 296550.0, 297000.0, 297315.0, 297900.0, 298350.0, 299250.0, 299700.0, 300150.0, 300379.5, 300600.0, 301500.0, 302400.0, 303120.0, 303300.0, 303750.0, 304110.0, 305100.0, 305280.0, 305295.75, 305550.0, 305779.5, 306000.0, 306900.0, 307350.0, 307692.0, 308250.0, 309150.0, 310050.0, 310248.0, 310365.0, 310500.0, 311400.0, 311850.0, 312300.0, 312750.0, 313200.0, 313650.0, 314100.0, 314797.5, 315000.0, 315157.5, 317029.5, 317088.0, 317569.5, 318366.0, 318690.0, 318906.0, 319275.0, 319500.0, 319972.5, 320400.0, 320850.0, 321750.0, 322650.0, 323968.5, 324000.0, 324058.5, 324805.5, 325800.0, 326250.0, 326772.0, 326803.5, 327316.5, 327622.5, 328500.0, 329400.0, 331855.245, 331960.5, 332100.0, 332775.0, 333000.0, 333751.5, 335700.0, 335848.5, 336825.0, 336835.935, 337050.0, 337500.0, 337545.0, 338400.0, 338746.5, 339282.0, 339750.0, 340200.0, 341100.0, 341325.0, 341550.0, 341973.0, 342000.0, 342337.5, 342900.0, 343350.0, 343800.0, 343890.0, 344250.0, 344700.0, 346050.0, 346275.0, 346500.0, 347400.0, 348007.5, 348061.5, 348462.0, 348750.0, 349200.0, 349875.0, 349938.0, 350392.5, 351000.0, 351891.0, 351900.0, 352350.0, 353250.0, 354375.0, 354600.0, 354879.0, 355050.0, 355293.0, 355500.0, 356625.0, 356850.0, 357750.0, 358200.0, 359100.0, 360000.0, 360450.0, 360508.5, 360900.0, 362061.0, 362250.0, 362911.5, 364500.0, 364891.5, 365850.0, 366750.0, 369000.0, 371250.0, 371392.2, 371925.0, 373230.0, 373500.0, 373950.0, 374220.0, 374998.5, 375750.0, 376875.0, 377145.0, 378000.0, 378900.0, 380700.0, 381150.0, 381375.0, 382500.0, 382657.5, 383400.0, 385200.0, 386100.0, 386473.5, 387000.0, 388350.0, 389250.0, 391500.0, 391747.5, 391972.5, 392625.0, 392850.0, 393750.0, 394353.0, 394501.5, 395100.0, 395433.0, 396000.0, 396922.5, 397867.5, 400500.0, 400981.5, 401161.5, 402376.5, 402750.0, 403200.0, 403650.0, 404406.0, 405000.0, 409500.0, 410400.0, 410850.0, 411300.0, 411750.0, 412308.0, 414000.0, 414031.5, 415813.5, 416029.5, 416322.0, 418500.0, 422100.0, 423000.0, 424350.0, 426019.5, 427050.0, 427500.0, 430650.0, 431478.0, 432000.0, 432981.0, 433350.0, 433737.0, 433800.0, 434250.0, 435600.0, 435708.0, 436495.5, 436500.0, 438750.0, 440100.0, 441000.0, 442350.0, 442953.0, 443250.0, 443700.0, 445050.0, 445500.0, 450000.0, 450225.0, 452250.0, 454500.0, 455850.0, 458550.0, 459000.0, 459751.5, 460417.5, 460525.5, 463500.0, 466956.0, 468000.0, 468823.5, 469800.0, 472500.0, 475047.0, 475650.0, 477000.0, 479250.0, 481500.0, 482850.0, 483300.0, 486000.0, 489861.0, 490500.0, 494100.0, 495000.0, 495126.0, 495634.5, 499500.0, 504000.0, 507739.5, 508500.0, 513000.0, 514480.5, 517500.0, 522000.0, 526500.0, 527247.0, 528300.0, 531000.0, 535500.0, 536026.5, 540000.0, 540270.0, 541710.0, 544500.0, 545733.0, 546250.5, 549000.0, 553500.0, 555327.0, 558000.0, 560250.0, 562500.0, 563850.0, 567000.0, 571500.0, 573750.0, 574564.5, 576000.0, 578835.0, 580500.0, 585000.0, 587250.0, 594000.0, 599998.5, 603000.0, 607500.0, 612000.0, 616500.0, 621000.0, 625500.0, 630000.0, 631624.5, 634500.0, 635728.5, 639000.0, 646875.0, 648000.0, 652500.0, 657000.0, 660397.5, 661500.0, 666000.0, 670500.0, 673380.0, 675000.0, 677250.0, 679500.0, 682303.5, 684000.0, 688500.0, 690399.0, 693000.0, 697500.0, 699750.0, 702000.0, 704700.0, 706500.0, 708610.5, 711000.0, 711810.0, 716323.5, 720000.0, 727870.5, 729000.0, 733500.0, 742500.0, 747000.0, 749331.0, 751500.0, 756000.0, 760792.5, 760846.5, 761400.0, 765000.0, 774000.0, 783000.0, 787500.0, 796500.0, 810000.0, 828000.0, 832500.0, 837000.0, 841500.0, 849694.5, 855000.0, 864000.0, 864900.0, 876276.0, 877500.0, 882000.0, 886500.0, 900000.0, 900450.0, 909000.0, 931365.0, 936000.0, 945000.0, 949500.0, 967500.0, 990000.0, 1001826.0, 1009368.0, 1012500.0, 1035000.0, 1053333.0, 1080000.0, 1102500.0, 1125000.0, 1147500.0, 1170000.0, 1192500.0, 1215000.0, 1235038.5, 1260000.0, 1282500.0, 1291500.0, 1305000.0, 1306831.5, 1307587.5, 1350000.0, 1358550.0, 1381500.0, 1417500.0, 1440000.0, 1530000.0, 1575000.0, 1665000.0, 1755000.0, 1800000.0, 1890000.0, 1935000.0, 2025000.0, 2070000.0, 2160000.0, 2214117.0, 2250000.0, 2475000.0, 2700000.0, 2930026.5, 3150000.0, 3375000.0, 3600000.0, 3825000.0, 3950059.5, 4500000.0, 6750000.0, 9000000.0, 13500000.0, 18000090.0, 117000000.0] 25650.0        0.000007\n",
      "26100.0        0.000016\n",
      "26460.0        0.000020\n",
      "26550.0        0.000026\n",
      "27000.0        0.000241\n",
      "27585.0        0.000244\n",
      "27900.0        0.000267\n",
      "27967.5        0.000270\n",
      "28161.0        0.000273\n",
      "28350.0        0.000309\n",
      "28404.0        0.000312\n",
      "28575.0        0.000322\n",
      "28593.0        0.000325\n",
      "28723.5        0.000328\n",
      "28800.0        0.000338\n",
      "29133.0        0.000341\n",
      "29250.0        0.000446\n",
      "29583.0        0.000449\n",
      "29700.0        0.000459\n",
      "30150.0        0.000481\n",
      "30600.0        0.000501\n",
      "30915.0        0.000504\n",
      "31050.0        0.000507\n",
      "31500.0        0.001106\n",
      "31531.5        0.001109\n",
      "31815.0        0.001112\n",
      "31860.0        0.001115\n",
      "31950.0        0.001128\n",
      "31990.5        0.001132\n",
      "32040.0        0.001135\n",
      "                 ...   \n",
      "1358550.0      0.999714\n",
      "1381500.0      0.999717\n",
      "1417500.0      0.999720\n",
      "1440000.0      0.999727\n",
      "1530000.0      0.999730\n",
      "1575000.0      0.999789\n",
      "1665000.0      0.999792\n",
      "1755000.0      0.999795\n",
      "1800000.0      0.999841\n",
      "1890000.0      0.999854\n",
      "1935000.0      0.999857\n",
      "2025000.0      0.999883\n",
      "2070000.0      0.999886\n",
      "2160000.0      0.999889\n",
      "2214117.0      0.999893\n",
      "2250000.0      0.999935\n",
      "2475000.0      0.999938\n",
      "2700000.0      0.999941\n",
      "2930026.5      0.999945\n",
      "3150000.0      0.999951\n",
      "3375000.0      0.999958\n",
      "3600000.0      0.999964\n",
      "3825000.0      0.999967\n",
      "3950059.5      0.999971\n",
      "4500000.0      0.999984\n",
      "6750000.0      0.999987\n",
      "9000000.0      0.999990\n",
      "13500000.0     0.999993\n",
      "18000090.0     0.999997\n",
      "117000000.0    1.000000\n",
      "Name: AMT_INCOME_TOTAL, Length: 2548, dtype: float64\n"
     ]
    }
   ],
   "source": [
    "print (list(cdf.index), cdf/cdf.max())"
   ]
  },
  {
   "cell_type": "code",
   "execution_count": 33,
   "metadata": {},
   "outputs": [],
   "source": [
    "def ecdf(data):\n",
    "    n = len(data)\n",
    "    xs = np.sort(data)\n",
    "    ys = np.arange(1, n+1) / n\n",
    "    return xs, ys"
   ]
  },
  {
   "cell_type": "code",
   "execution_count": 34,
   "metadata": {},
   "outputs": [
    {
     "name": "stdout",
     "output_type": "stream",
     "text": [
      "count    3.075110e+05\n",
      "mean     1.687979e+05\n",
      "std      2.371231e+05\n",
      "min      2.565000e+04\n",
      "25%      1.125000e+05\n",
      "50%      1.471500e+05\n",
      "75%      2.025000e+05\n",
      "max      1.170000e+08\n",
      "Name: AMT_INCOME_TOTAL, dtype: float64\n"
     ]
    },
    {
     "data": {
      "image/png": "[encoded data removed]",
      "text/plain": [
       "<Figure size 432x288 with 1 Axes>"
      ]
     },
     "metadata": {
      "needs_background": "light"
     },
     "output_type": "display_data"
    },
    {
     "data": {
      "image/png": "[encoded data removed]",
      "text/plain": [
       "<Figure size 432x288 with 1 Axes>"
      ]
     },
     "metadata": {
      "needs_background": "light"
     },
     "output_type": "display_data"
    }
   ],
   "source": [
    "# 最大值離平均與中位數很遠\n",
    "print(app_train['AMT_INCOME_TOTAL'].describe())\n",
    "\n",
    "# 繪製 Empirical Cumulative Density Plot (ECDF)\n",
    "\"\"\"\n",
    "YOUR CODE HERE\n",
    "\"\"\"\n",
    "#cdf = ecdf(app_train['AMT_INCOME_TOTAL'])\n",
    "#plt.plot(list(cdf.index), cdf/cdf.max())\n",
    "xs, ys = ecdf(app_train['AMT_INCOME_TOTAL'])\n",
    "plt.plot(xs, ys)\n",
    "plt.xlabel('Value')\n",
    "plt.ylabel('ECDF')\n",
    "#plt.xlim([cdf.index.min(), cdf.index.max() * 1.05]) # 限制顯示圖片的範圍\n",
    "plt.ylim([-0.05,1.05]) # 限制顯示圖片的範圍\n",
    "\n",
    "plt.show()\n",
    "\n",
    "# 改變 y 軸的 Scale, 讓我們可以正常檢視 ECDF\n",
    "#plt.plot(np.log(list(cdf.index)), cdf/cdf.max())\n",
    "xs, ys = ecdf(app_train['AMT_INCOME_TOTAL'])\n",
    "plt.plot(xs, ys)\n",
    "plt.xscale('log')\n",
    "plt.xlabel('Value (log-scale)')\n",
    "plt.ylabel('ECDF')\n",
    "\n",
    "plt.ylim([-0.05,1.05]) # 限制顯示圖片的範圍\n",
    "\n",
    "plt.show()"
   ]
  },
  {
   "cell_type": "markdown",
   "metadata": {},
   "source": [
    "## 補充：Normal dist 的 ECDF\n",
    "![ecdf_normal](https://au.mathworks.com/help/examples/stats/win64/PlotEmpiricalCdfAndCompareWithSamplingDistributionExample_01.png)"
   ]
  },
  {
   "cell_type": "code",
   "execution_count": 35,
   "metadata": {},
   "outputs": [
    {
     "name": "stdout",
     "output_type": "stream",
     "text": [
      "count    307511.000000\n",
      "mean          0.020868\n",
      "std           0.013831\n",
      "min           0.000290\n",
      "25%           0.010006\n",
      "50%           0.018850\n",
      "75%           0.028663\n",
      "max           0.072508\n",
      "Name: REGION_POPULATION_RELATIVE, dtype: float64\n"
     ]
    },
    {
     "data": {
      "image/png": "[encoded data removed]",
      "text/plain": [
       "<Figure size 432x288 with 1 Axes>"
      ]
     },
     "metadata": {
      "needs_background": "light"
     },
     "output_type": "display_data"
    },
    {
     "data": {
      "image/png": "[encoded data removed]",
      "text/plain": [
       "<Figure size 432x288 with 1 Axes>"
      ]
     },
     "metadata": {
      "needs_background": "light"
     },
     "output_type": "display_data"
    },
    {
     "data": {
      "text/plain": [
       "0.035792    16408\n",
       "0.046220    13442\n",
       "0.030755    12163\n",
       "0.025164    11950\n",
       "0.026392    11601\n",
       "0.031329    11321\n",
       "0.028663    11157\n",
       "0.019101     8694\n",
       "0.072508     8412\n",
       "0.020713     8066\n",
       "0.018850     7668\n",
       "0.020246     7178\n",
       "0.018634     7038\n",
       "0.022625     6943\n",
       "0.015221     6824\n",
       "0.032561     6636\n",
       "0.024610     6404\n",
       "0.019689     6172\n",
       "0.018029     6167\n",
       "0.018801     6108\n",
       "0.018209     6052\n",
       "0.014520     4785\n",
       "0.016612     4408\n",
       "0.007020     4105\n",
       "0.022800     3807\n",
       "0.010032     3570\n",
       "0.010006     3563\n",
       "0.014464     3422\n",
       "0.004960     3300\n",
       "0.011703     3252\n",
       "            ...  \n",
       "0.006008     1796\n",
       "0.003069     1783\n",
       "0.008575     1763\n",
       "0.008474     1740\n",
       "0.007274     1724\n",
       "0.007114     1684\n",
       "0.006305     1672\n",
       "0.008068     1668\n",
       "0.008866     1654\n",
       "0.006671     1653\n",
       "0.002042     1642\n",
       "0.003813     1616\n",
       "0.005084     1482\n",
       "0.006296     1225\n",
       "0.005313     1218\n",
       "0.003818     1212\n",
       "0.003122     1147\n",
       "0.006233     1087\n",
       "0.005002     1068\n",
       "0.002134     1051\n",
       "0.004849     1038\n",
       "0.005144      967\n",
       "0.002506      944\n",
       "0.003541      627\n",
       "0.001276      558\n",
       "0.001417      467\n",
       "0.001333      235\n",
       "0.000533       39\n",
       "0.000938       28\n",
       "0.000290        2\n",
       "Name: REGION_POPULATION_RELATIVE, Length: 81, dtype: int64"
      ]
     },
     "execution_count": 35,
     "metadata": {},
     "output_type": "execute_result"
    }
   ],
   "source": [
    "# 最大值落在分布之外\n",
    "print(app_train['REGION_POPULATION_RELATIVE'].describe())\n",
    "\n",
    "# 繪製 Empirical Cumulative Density Plot (ECDF)\n",
    "\"\"\"\n",
    "Your Code Here\n",
    "\"\"\"\n",
    "#cdf = \n",
    "\n",
    "xs, ys = ecdf(app_train['REGION_POPULATION_RELATIVE'])\n",
    "#plt.plot(list(cdf.index), cdf/cdf.max())\n",
    "plt.plot(xs,ys)\n",
    "plt.xlabel('Value')\n",
    "plt.ylabel('ECDF')\n",
    "plt.ylim([-0.05,1.05]) # 限制顯示圖片的範圍\n",
    "plt.show()\n",
    "\n",
    "app_train['REGION_POPULATION_RELATIVE'].hist()\n",
    "plt.show()\n",
    "\n",
    "app_train['REGION_POPULATION_RELATIVE'].value_counts()\n",
    "\n",
    "# 就以這個欄位來說，雖然有資料掉在分布以外，也不算異常，僅代表這間公司在稍微熱鬧的地區有的據點較少，\n",
    "# 導致 region population relative 在少的部分較為密集，但在大的部分較為疏漏"
   ]
  },
  {
   "cell_type": "code",
   "execution_count": 36,
   "metadata": {
    "scrolled": true
   },
   "outputs": [
    {
     "name": "stdout",
     "output_type": "stream",
     "text": [
      "count    306490.000000\n",
      "mean          1.405292\n",
      "std           2.379803\n",
      "min           0.000000\n",
      "25%           0.000000\n",
      "50%           0.000000\n",
      "75%           2.000000\n",
      "max         344.000000\n",
      "Name: OBS_60_CNT_SOCIAL_CIRCLE, dtype: float64\n"
     ]
    },
    {
     "data": {
      "image/png": "[encoded data removed]",
      "text/plain": [
       "<Figure size 432x288 with 1 Axes>"
      ]
     },
     "metadata": {
      "needs_background": "light"
     },
     "output_type": "display_data"
    },
    {
     "data": {
      "image/png": "[encoded data removed]",
      "text/plain": [
       "<Figure size 432x288 with 1 Axes>"
      ]
     },
     "metadata": {
      "needs_background": "light"
     },
     "output_type": "display_data"
    },
    {
     "name": "stdout",
     "output_type": "stream",
     "text": [
      "344.0         1\n",
      "47.0          1\n",
      "30.0          1\n",
      "29.0          2\n",
      "28.0          1\n",
      "27.0          5\n",
      "26.0          1\n",
      "25.0         11\n",
      "24.0         12\n",
      "23.0         13\n",
      "22.0         20\n",
      "21.0         28\n",
      "20.0         30\n",
      "19.0         44\n",
      "18.0         49\n",
      "17.0         73\n",
      "16.0        137\n",
      "15.0        166\n",
      "14.0        238\n",
      "13.0        401\n",
      "12.0        620\n",
      "11.0        837\n",
      "10.0       1335\n",
      "9.0        1959\n",
      "8.0        2886\n",
      "7.0        4344\n",
      "6.0        6349\n",
      "5.0        9463\n",
      "4.0       13946\n",
      "3.0       20215\n",
      "2.0       29766\n",
      "1.0       48870\n",
      "0.0      164666\n",
      "Name: OBS_60_CNT_SOCIAL_CIRCLE, dtype: int64\n"
     ]
    }
   ],
   "source": [
    "# 最大值落在分布之外\n",
    "print(app_train['OBS_60_CNT_SOCIAL_CIRCLE'].describe())\n",
    "\n",
    "# 繪製 Empirical Cumulative Density Plot (ECDF)\n",
    "\n",
    "#Your Code Here\n",
    "\n",
    "#cdf = \n",
    "#plt.plot(list(cdf.index), cdf/cdf.max())\n",
    "xs, ys = ecdf(app_train['REGION_POPULATION_RELATIVE'])\n",
    "plt.plot(xs, ys)\n",
    "plt.xlabel('Value')\n",
    "plt.ylabel('ECDF')\n",
    "#plt.xlim([cdf.index.min() * 0.95, cdf.index.max() * 1.05])\n",
    "plt.ylim([-0.05,1.05]) # 限制顯示圖片的範圍\n",
    "plt.show()\n",
    "\n",
    "app_train['OBS_60_CNT_SOCIAL_CIRCLE'].hist()\n",
    "plt.show()\n",
    "print(app_train['OBS_60_CNT_SOCIAL_CIRCLE'].value_counts().sort_index(ascending = False))"
   ]
  },
  {
   "cell_type": "markdown",
   "metadata": {},
   "source": [
    "## 注意：當 histogram 畫出上面這種圖 (只出現一條，但是 x 軸延伸很長導致右邊有一大片空白時，代表右邊有值但是數量稀少。這時可以考慮用 value_counts 去找到這些數值"
   ]
  },
  {
   "cell_type": "code",
   "execution_count": 50,
   "metadata": {},
   "outputs": [
    {
     "name": "stdout",
     "output_type": "stream",
     "text": [
      "0.0      164666\n",
      "1.0       48870\n",
      "2.0       29766\n",
      "3.0       20215\n",
      "4.0       13946\n",
      "5.0        9463\n",
      "6.0        6349\n",
      "7.0        4344\n",
      "8.0        2886\n",
      "9.0        1959\n",
      "10.0       1335\n",
      "11.0        837\n",
      "12.0        620\n",
      "13.0        401\n",
      "14.0        238\n",
      "15.0        166\n",
      "16.0        137\n",
      "17.0         73\n",
      "18.0         49\n",
      "19.0         44\n",
      "20.0         30\n",
      "21.0         28\n",
      "22.0         20\n",
      "23.0         13\n",
      "24.0         12\n",
      "25.0         11\n",
      "27.0          5\n",
      "29.0          2\n",
      "28.0          1\n",
      "344.0         1\n",
      "47.0          1\n",
      "26.0          1\n",
      "30.0          1\n",
      "Name: OBS_60_CNT_SOCIAL_CIRCLE, dtype: int64\n"
     ]
    },
    {
     "data": {
      "image/png": "[encoded data removed]",
      "text/plain": [
       "<Figure size 432x288 with 1 Axes>"
      ]
     },
     "metadata": {
      "needs_background": "light"
     },
     "output_type": "display_data"
    }
   ],
   "source": [
    "# 把一些極端值暫時去掉，在繪製一次 Histogram\n",
    "# 選擇 OBS_60_CNT_SOCIAL_CIRCLE 小於 20 的資料點繪製\n",
    "\"\"\"\n",
    "Your Code Here\n",
    "\"\"\"\n",
    "print (app_train[\"OBS_60_CNT_SOCIAL_CIRCLE\"].value_counts())\n",
    "\n",
    "loc_a = app_train[\"OBS_60_CNT_SOCIAL_CIRCLE\"]<20\n",
    "loc_b = \"OBS_60_CNT_SOCIAL_CIRCLE\"\n",
    "\n",
    "app_train.loc[loc_a, loc_b].hist()\n",
    "plt.show()"
   ]
  },
  {
   "cell_type": "code",
   "execution_count": null,
   "metadata": {},
   "outputs": [],
   "source": []
  }
 ],
 "metadata": {
  "anaconda-cloud": {},
  "kernelspec": {
   "display_name": "Python 3",
   "language": "python",
   "name": "python3"
  },
  "language_info": {
   "codemirror_mode": {
    "name": "ipython",
    "version": 3
   },
   "file_extension": ".py",
   "mimetype": "text/x-python",
   "name": "python",
   "nbconvert_exporter": "python",
   "pygments_lexer": "ipython3",
   "version": "3.7.0"
  }
 },
 "nbformat": 4,
 "nbformat_minor": 1
}
